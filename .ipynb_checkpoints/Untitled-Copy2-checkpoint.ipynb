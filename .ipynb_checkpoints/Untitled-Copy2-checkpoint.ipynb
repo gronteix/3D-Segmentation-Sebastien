{
 "cells": [
  {
   "cell_type": "code",
   "execution_count": 1,
   "metadata": {},
   "outputs": [],
   "source": [
    "import os\n",
    "import numpy as np\n",
    "import pandas\n",
    "import os\n",
    "import skimage\n",
    "from scipy import ndimage, signal\n",
    "from skimage import exposure\n",
    "import matplotlib.pyplot as plt\n",
    "import glob\n",
    "from skimage import io\n",
    "import scipy\n",
    "from scipy import signal\n",
    "from skimage import feature\n",
    "from tqdm import tqdm_notebook as tqdm\n",
    "import json\n",
    "from matplotlib_scalebar.scalebar import ScaleBar\n",
    "import networkx as nx\n",
    "\n",
    "from scipy.ndimage.filters import uniform_filter1d, correlate1d\n",
    "from sklearn import mixture\n",
    "\n"
   ]
  },
  {
   "cell_type": "code",
   "execution_count": 2,
   "metadata": {},
   "outputs": [],
   "source": [
    "def default(o):\n",
    "    if isinstance(o, np.int64): return int(o)\n",
    "    raise TypeError"
   ]
  },
  {
   "cell_type": "code",
   "execution_count": 70,
   "metadata": {},
   "outputs": [],
   "source": [
    "path = r'\\\\atlas.pasteur.fr\\Multicell\\Gustave\\fusionGustave\\TIFF BIS\\1\\19'\n",
    "\n",
    "livePosition = 2\n",
    "green = 0\n",
    "orange = 1\n",
    "\n",
    "channels = [livePosition, green, orange]\n",
    "zRatio = 1/6\n",
    "r = 10\n",
    "d = 7\n",
    "pxtoum = 1/3"
   ]
  },
  {
   "cell_type": "code",
   "execution_count": 71,
   "metadata": {},
   "outputs": [],
   "source": [
    "dX = 2*(int(r/pxtoum)//2)+1\n",
    "dY = 2*(int(r/pxtoum)//2)+1\n",
    "dZ = 2*(int(zRatio*r/pxtoum)//2)+1\n",
    "\n",
    "r = (dZ, dX, dY)\n",
    "\n",
    "dX = 2*(int(d/pxtoum)//2)+1\n",
    "dY = 2*(int(d/pxtoum)//2)+1\n",
    "dZ = 2*(int(zRatio*d/pxtoum)//2)+1\n",
    "\n",
    "d = (dZ, dX, dY)"
   ]
  },
  {
   "cell_type": "code",
   "execution_count": 72,
   "metadata": {},
   "outputs": [
    {
     "name": "stdout",
     "output_type": "stream",
     "text": [
      "image made, starting nuclei ID\n"
     ]
    }
   ],
   "source": [
    "import spheroid\n",
    "\n",
    "Sph = spheroid.spheroid(path, '1', '2', zRatio, r, d,pxtoum)\n",
    "    # Initialize spheroid\n",
    "\n",
    "if len(channels) == 3: # Improve dependancy on channel number...\n",
    "\n",
    "    Sph._loadImage(channels[0], 'NucImage') # Load live cells\n",
    "    Sph._loadImage(channels[1], 'GreenImage') # Load green cells\n",
    "    Sph._loadImage(channels[2], 'OrangeImage') # Load orange cells\n",
    "\n",
    "else: print(\"Wrong number of color channels\")\n",
    "\n",
    "print('image made, starting nuclei ID')"
   ]
  },
  {
   "cell_type": "code",
   "execution_count": 73,
   "metadata": {},
   "outputs": [
    {
     "data": {
      "text/plain": [
       "(101, 1500, 1500)"
      ]
     },
     "execution_count": 73,
     "metadata": {},
     "output_type": "execute_result"
    }
   ],
   "source": [
    "np.shape(Sph.NucImage[:,250:1750,250:1750])"
   ]
  },
  {
   "cell_type": "code",
   "execution_count": 74,
   "metadata": {},
   "outputs": [],
   "source": [
    "from trackpy import preprocessing\n",
    "import trackpy"
   ]
  },
  {
   "cell_type": "code",
   "execution_count": null,
   "metadata": {},
   "outputs": [],
   "source": [
    "df = trackpy.locate(Sph.NucImage[:,:,:], r, minmass=None, maxsize=None, separation=None, noise_size=1, \n",
    "                    smoothing_size=None, threshold=None, invert=False, percentile=64, topn=180, \n",
    "                    preprocess=True, max_iterations=10, filter_before=None, filter_after=None, characterize=True, \n",
    "                    engine='numba')"
   ]
  },
  {
   "cell_type": "code",
   "execution_count": null,
   "metadata": {},
   "outputs": [],
   "source": [
    "fd = df.loc[df['mass'] > 120000]"
   ]
  },
  {
   "cell_type": "code",
   "execution_count": 65,
   "metadata": {},
   "outputs": [],
   "source": [
    "from scipy.ndimage import gaussian_filter"
   ]
  },
  {
   "cell_type": "code",
   "execution_count": null,
   "metadata": {},
   "outputs": [],
   "source": [
    "from skimage import exposure\n",
    "\n",
    "img_eq = exposure.equalize_hist(Sph.NucImage[50,250:1750,250:1750])\n",
    "im =  gaussian_filter(img_eq, sigma=2)"
   ]
  },
  {
   "cell_type": "code",
   "execution_count": null,
   "metadata": {},
   "outputs": [],
   "source": [
    "ax, fig = plt.subplots(figsize = (8,8))\n",
    "plt.imshow(im)\n",
    "plt.scatter(fd['x']-250, fd['y']-250, s = 5)"
   ]
  },
  {
   "cell_type": "markdown",
   "metadata": {},
   "source": [
    "slow, try using this on clipped image so as to accelerate the locate algorithm."
   ]
  },
  {
   "cell_type": "code",
   "execution_count": null,
   "metadata": {},
   "outputs": [],
   "source": [
    "testPath = r'\\\\atlas.pasteur.fr\\Multicell\\Gustave\\fusionGustave\\TIFF BIS\\1\\5\\testStack'\n",
    "\n",
    "a, b, c = np.shape(Sph.NucImage)\n",
    "\n",
    "for n in range(a):\n",
    "    \n",
    "    im =  gaussian_filter(Sph.NucImage[n, 250:1750,250:1750], sigma=2)\n",
    "    ax, fig = plt.subplots(figsize = (18,18))\n",
    "    plt.imshow(im, vmin = 50, vmax = 1000)\n",
    "    \n",
    "    loc = fd.loc[np.abs(fd['z']-n) < 2]\n",
    "    \n",
    "    plt.scatter(loc['x']-250, loc['y']-250, s = 5, c= 'r')\n",
    "    plt.savefig(testPath + r'\\\\' + 'im_' + str(n) + '.png')\n",
    "    plt.close()"
   ]
  },
  {
   "cell_type": "code",
   "execution_count": null,
   "metadata": {},
   "outputs": [],
   "source": [
    "df = df.loc[df['x'] > 0]"
   ]
  },
  {
   "cell_type": "code",
   "execution_count": null,
   "metadata": {},
   "outputs": [],
   "source": [
    "df['label'] = range(len(df))"
   ]
  },
  {
   "cell_type": "code",
   "execution_count": null,
   "metadata": {},
   "outputs": [],
   "source": [
    "Sph.NucFrame = df\n",
    "Sph._makeSpheroid()"
   ]
  },
  {
   "cell_type": "code",
   "execution_count": null,
   "metadata": {},
   "outputs": [],
   "source": [
    "Sph.Spheroid['cells']"
   ]
  },
  {
   "cell_type": "code",
   "execution_count": null,
   "metadata": {},
   "outputs": [],
   "source": [
    "frame = Sph._initializeStates()"
   ]
  },
  {
   "cell_type": "code",
   "execution_count": 4,
   "metadata": {},
   "outputs": [],
   "source": [
    "class spheroid:\n",
    "\n",
    "    \"\"\" Spheroid class containing the necessary info to build the spheroid.\n",
    "\n",
    "    ====== COMMENT ======\n",
    "\n",
    "     - All variables starting with a capital letter refer to class variables.\n",
    "     - All variables starting with '_' refer to a dict\n",
    "\n",
    "\n",
    "    ====== PARAMETERS ======\n",
    "\n",
    "    path: string object, path to the folder storing images\n",
    "    position: string object, well ID\n",
    "    time: string object, time of experiment\"\"\"\n",
    "\n",
    "    def __init__(self, path, zRatio, rNoyau, dCells):\n",
    "        \n",
    "        position = '0'\n",
    "        time = '0'\n",
    "\n",
    "        self.Path = path\n",
    "        self.Position = position\n",
    "        self.Time = time\n",
    "        self.ZRatio = zRatio\n",
    "        self.RNoyau = rNoyau\n",
    "        self.DCells = dCells\n",
    "        self.NucImage = []\n",
    "        self.BorderCrop = 0 # pixels cropped on border\n",
    "        self.ThreshOrange = 300 # thresh for orange cell detection, not used since\n",
    "                                # classifier introduced.\n",
    "        self.ThreshGreen = 200  # thresh for orange cell detection, not used\n",
    "                                # since classifier introduced\n",
    "        self.ThreshCell = 550   # thresh for live cell detection\n",
    "\n",
    "    def _loadImage(self, channel, type):\n",
    "\n",
    "        \"\"\" Function to load the images corresponding to a given channel\n",
    "\n",
    "        ====== COMMENT ======\n",
    "\n",
    "        The function needs to be improved so as to add new channels without\n",
    "        requiring to manually add new channels by hand.\n",
    "\n",
    "        \"\"\"\n",
    "\n",
    "        image_list = []\n",
    "        for filename in sorted(os.listdir(self.Path)): #assuming tif\n",
    "\n",
    "            if '.tif' in filename:\n",
    "\n",
    "                im = io.imread(self.Path + '/' + filename)\n",
    "\n",
    "                image_list.append(im[:,:,channel])\n",
    "\n",
    "        if type == 'NucImage':\n",
    "\n",
    "            self.NucImage = np.asarray(image_list)\n",
    "\n",
    "        if type == 'GreenImage':\n",
    "\n",
    "            self.GreenImage = np.asarray(image_list)\n",
    "\n",
    "        if type == 'OrangeImage':\n",
    "\n",
    "            self.OrangeImage = np.asarray(image_list)\n",
    "\n",
    "    def _getNuclei(self):\n",
    "\n",
    "        \"\"\"\n",
    "        Creates the dataframe containing all the cells of the Spheroid.\n",
    "        The duplicata clean function is eliminated. Indeed, the local maximum\n",
    "        makes it impossible for any cell to be segmented twice along the z-axis.\n",
    "        \"\"\"\n",
    "\n",
    "        self.NucFrame = trackpy.locate(Sph.NucImage[:, :,:], self.RNoyau, minmass=self.MinMass, maxsize=None, separation=self.DCells, \n",
    "                            noise_size=2, smoothing_size=None, threshold=None, invert=False, percentile=64, topn=None, \n",
    "                            preprocess=True, max_iterations=10, filter_before=None, filter_after=None, characterize=True, \n",
    "                            engine='numba')\n",
    "        \n",
    "        self.NucFrame['label'] = range(len(fd))\n",
    "\n",
    "\n",
    "    def _makeSpheroid(self):\n",
    "\n",
    "        \"\"\"Generates the spheroid dict containing all the essential information about the spheroid.\n",
    "\n",
    "        ====== PARAMETERS ======\n",
    "\n",
    "        df: DataFrame containing all the positional information of the cells\n",
    "        dCells: maximum distance for two cells to be considered as neighbours\n",
    "        zRatio: pixel ratio between z and xy dimensions\n",
    "        Image: original, multichannel, 3D image\n",
    "        state: True/False variable stating if we seek the dead-alive information\n",
    "\n",
    "        ====== RETURNS ======\n",
    "\n",
    "        _Spheroid: dict object\"\"\"\n",
    "\n",
    "        _Spheroid = {}\n",
    "\n",
    "        _Spheroid['spheroid position'] = self.Position\n",
    "        _Spheroid['time'] = self.Time\n",
    "        _Spheroid['cells'] = self._generateCells()\n",
    "\n",
    "        self.Spheroid = _Spheroid\n",
    "\n",
    "\n",
    "    def _initializeStates(self):\n",
    "\n",
    "        X = np.arange(0, 100)\n",
    "        Y = np.arange(0, 100)\n",
    "        Z = np.arange(0, 100)\n",
    "        X, Y, Z = np.meshgrid(X, Y, Z)\n",
    "\n",
    "        df = pandas.DataFrame()\n",
    "        i = 0\n",
    "        \n",
    "        (z, x, y) = self.RNoyau\n",
    "\n",
    "        mask = np.sqrt((X-50)**2/x**2 + (Y-50)**2/y**2 + (Z-50)**2/z**2) < 1\n",
    "        mask = np.transpose(mask, (2,1,0)).astype(np.int)\n",
    "        \n",
    "        xmin = int(Sph.NucFrame['x'].min())\n",
    "        xmax = int(Sph.NucFrame['x'].max())\n",
    "        ymin = int(Sph.NucFrame['y'].min())\n",
    "        ymax = int(Sph.NucFrame['y'].max())\n",
    "        zmin = int(Sph.NucFrame['z'].min())\n",
    "        zmax = int(Sph.NucFrame['z'].max())\n",
    "        \n",
    "        (Zshape, Xshape, Yshape) = np.shape(self.GreenImage)\n",
    "\n",
    "        GreenConv = scipy.signal.fftconvolve(self.GreenImage[max(0,zmin-10):min(zmax+10, Zshape), max(0,xmin-50):min(xmax+50, Xshape), \n",
    "                                                             max(0,ymin-50):min(ymax+50, Yshape)], mask, mode='full')\n",
    "        OrangeConv = scipy.signal.fftconvolve(self.OrangeImage[max(0,zmin-10):min(zmax+10, Zshape), max(0,xmin-50):min(xmax+50, Xshape), \n",
    "                                                             max(0,ymin-50):min(ymax+50, Yshape)], mask, mode='full')\n",
    "\n",
    "        for cellLabel in tqdm(self.Spheroid['cells'].keys()):\n",
    "            \n",
    "            try:\n",
    "\n",
    "                x = int(float(self.Spheroid['cells'][cellLabel]['x']))\n",
    "                y = int(float(self.Spheroid['cells'][cellLabel]['y']))\n",
    "                z = int(float(self.Spheroid['cells'][cellLabel]['z']))\n",
    "\n",
    "                zlen, _, _ = np.nonzero(mask)\n",
    "\n",
    "                df.loc[i, 'label'] = cellLabel\n",
    "                df.loc[i, 'Orange'] = OrangeConv[z,x,y]/len(zlen)\n",
    "                df.loc[i, 'Green'] = GreenConv[z,x,y]/len(zlen)\n",
    "                i += 1\n",
    "                \n",
    "            except Exception as e: print('Error in cell ' + str(cellLabel), e)\n",
    "\n",
    "        # We experimentally classify the cells spheroid by spheroid\n",
    "\n",
    "        a = df['Orange'].dot(df['Green'])/df['Orange'].dot(df['Orange'])\n",
    "        df['Color'] = np.sign(df['Green']-a*df['Orange'])\n",
    "\n",
    "        X = df[['Orange', 'Green']]\n",
    "        gmm =  mixture.GaussianMixture(n_components=2).fit(X)\n",
    "        labels = gmm.predict(X)\n",
    "        df['GMM Color'] = labels*2-1\n",
    "\n",
    "        for cellLabel in self.Spheroid['cells'].keys():\n",
    "\n",
    "            # Error can come from thrown out cells from above that are non existent\n",
    "            # here...\n",
    "            \n",
    "            try:\n",
    "\n",
    "                if df.loc[df['label'] == cellLabel, 'GMM Color'].iloc[0] < 0:\n",
    "\n",
    "                    self.Spheroid['cells'][cellLabel]['state'] = 'Orange'\n",
    "\n",
    "                if df.loc[df['label'] == cellLabel, 'GMM Color'].iloc[0] > 0:\n",
    "\n",
    "                    self.Spheroid['cells'][cellLabel]['state'] = 'Green'\n",
    "                    \n",
    "            except Exception as e: print('Error in cell ' + str(cellLabel), e)\n",
    "\n",
    "        return df\n",
    "\n",
    "\n",
    "    def _generateCells(self):\n",
    "\n",
    "        \"\"\" This function serves to generate the cells and gives back a dic object.\n",
    "\n",
    "        ====== PARAMETERS ======\n",
    "\n",
    "        df: DataFrame containing the relevant positional information\n",
    "        dCells: minimum distance between any two cells\n",
    "        zRatio: ratio between the xy and z dimensions\n",
    "\n",
    "        ====== RETURNS ======\n",
    "\n",
    "        _Cells: dict object\"\"\"\n",
    "\n",
    "        _Cells = {}\n",
    "\n",
    "        df = self.NucFrame\n",
    "        dCells = self.DCells\n",
    "        zRatio = self.ZRatio\n",
    "\n",
    "        df['label'] = df['label'].astype(int).astype(str)\n",
    "\n",
    "        for label in df['label'].unique():\n",
    "\n",
    "            dic = {}\n",
    "\n",
    "            # All values are strings since json doesn't know ints\n",
    "\n",
    "            dic['x'] = str(df.loc[df['label'] == label, 'x'].iloc[0])\n",
    "            dic['y'] = str(df.loc[df['label'] == label, 'y'].iloc[0])\n",
    "            dic['z'] = str(df.loc[df['label'] == label, 'z'].iloc[0])\n",
    "            dic['neighbours'] = self._nearestNeighbour(df, label, dCells, zRatio)\n",
    "            dic['state'] = 'Live'\n",
    "\n",
    "            _Cells[str(int(label))] = dic\n",
    "\n",
    "        return _Cells\n",
    "\n",
    "\n",
    "    def _nearestNeighbour(self, df, label, dCells, zRatio):\n",
    "\n",
    "        \"\"\"Returns a list of float labels of the cells closest to the given label.\n",
    "        This method is dependant only on a minimum distance given by the investigator.\"\"\"\n",
    "\n",
    "        x = df.loc[df['label'] == label, 'x'].iloc[0]\n",
    "        y = df.loc[df['label'] == label, 'y'].iloc[0]\n",
    "        z = df.loc[df['label'] == label, 'z'].iloc[0]\n",
    "\n",
    "        (a,b,c) = dCells\n",
    "\n",
    "        lf = df.loc[df['label'] != label].copy()\n",
    "\n",
    "        return lf.loc[np.sqrt((lf['x'] - x)**2/b**2 + (lf['y'] - y)**2/c**2 +\n",
    "            (lf['z'] - z)**2/a**2) < 1, 'label'].values.tolist()"
   ]
  },
  {
   "cell_type": "code",
   "execution_count": null,
   "metadata": {},
   "outputs": [],
   "source": [
    "def _cleanCells(path):\n",
    "    \n",
    "    for dicName in tqdm(sorted(glob.glob(path + r'/' + '*.json'))):\n",
    "            \n",
    "    with open(dicName, \"r\") as read_file:\n",
    "        data = json.load(read_file)\n",
    "        \n",
    "    _Cells = data['cells']\n",
    "    \n",
    "    for cell in _Cells.keys():\n",
    "        \n",
    "        zList"
   ]
  },
  {
   "cell_type": "code",
   "execution_count": null,
   "metadata": {},
   "outputs": [],
   "source": [
    "def _getLen(dic):\n",
    "    \n",
    "    return len(dic['cells'].keys())"
   ]
  },
  {
   "cell_type": "markdown",
   "metadata": {},
   "source": [
    "## Image Sorting"
   ]
  },
  {
   "cell_type": "code",
   "execution_count": null,
   "metadata": {},
   "outputs": [],
   "source": [
    "_sortFiles(r'X:\\Gustave\\Experiments\\Nuclei Segmentation\\28062019\\scanSeb')"
   ]
  },
  {
   "cell_type": "code",
   "execution_count": null,
   "metadata": {},
   "outputs": [],
   "source": [
    "path = r'X:\\Gustave\\Experiments\\Nuclei Segmentation\\28062019\\scanSeb'\n",
    "zRatio = 1/5\n",
    "rNoyau = 12\n",
    "dCells= 60"
   ]
  },
  {
   "cell_type": "code",
   "execution_count": null,
   "metadata": {},
   "outputs": [],
   "source": [
    "_makeSingleSpheroidClass(path, zRatio, rNoyau, dCells)"
   ]
  },
  {
   "cell_type": "code",
   "execution_count": null,
   "metadata": {},
   "outputs": [],
   "source": [
    "import collections\n",
    "path1 = r'/Users/gustaveronteix/Desktop/Image Stack/Test/Screens/SIR_1mM/'\n",
    "path2 = r'/Users/gustaveronteix/Desktop/Image Stack/Test/Screens/SIR_05mM/'\n",
    "\n",
    "\n",
    "\n",
    "df1, deg1, cnt1 = _getAllGraphs(path1)\n",
    "df2, deg2, cnt2 = _getAllGraphs(path2)"
   ]
  },
  {
   "cell_type": "code",
   "execution_count": null,
   "metadata": {},
   "outputs": [],
   "source": [
    "fig, ax = plt.subplots()\n",
    "plt.bar(deg, cnt, width=0.80, color='b')\n",
    "\n",
    "plt.title(\"Degree Histogram\")\n",
    "plt.ylabel(\"Count\")\n",
    "plt.xlabel(\"Degree\")\n",
    "ax.set_xticks([d + 0.4 for d in deg])\n",
    "ax.set_xticklabels(deg)"
   ]
  }
 ],
 "metadata": {
  "kernelspec": {
   "display_name": "Python 3",
   "language": "python",
   "name": "python3"
  },
  "language_info": {
   "codemirror_mode": {
    "name": "ipython",
    "version": 3
   },
   "file_extension": ".py",
   "mimetype": "text/x-python",
   "name": "python",
   "nbconvert_exporter": "python",
   "pygments_lexer": "ipython3",
   "version": "3.7.0"
  }
 },
 "nbformat": 4,
 "nbformat_minor": 2
}
