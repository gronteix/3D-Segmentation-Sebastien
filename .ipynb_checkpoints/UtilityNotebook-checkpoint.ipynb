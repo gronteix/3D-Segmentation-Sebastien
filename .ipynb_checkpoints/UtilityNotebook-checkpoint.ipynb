{
 "cells": [
  {
   "cell_type": "code",
   "execution_count": 3,
   "metadata": {},
   "outputs": [],
   "source": [
    "import os\n",
    "import numpy as np\n",
    "import networkx as nx\n",
    "\n",
    "import process\n",
    "import pandas"
   ]
  },
  {
   "cell_type": "markdown",
   "metadata": {},
   "source": [
    "# Chip analysis\n",
    "\n",
    "The following notebook is an analysis notebook. It has been conceived to order and analyse a dump of confocal images. All questions concerning the code should be emailed to gustave.ronteix@pasteur.fr."
   ]
  },
  {
   "cell_type": "markdown",
   "metadata": {},
   "source": [
    "### Processing\n",
    "\n",
    "The grunt functions are called from process.\n",
    "\n",
    "Attention: verify the channel order."
   ]
  },
  {
   "cell_type": "code",
   "execution_count": 4,
   "metadata": {},
   "outputs": [],
   "source": [
    "livePosition = 2\n",
    "green = 0\n",
    "orange = 1\n",
    "\n",
    "channels = [livePosition, green, orange]\n",
    "\n",
    "zRatio = 1/3\n",
    "rNoyau = 9\n",
    "dCells = 70\n",
    "\n",
    "path = r'\\\\atlas.pasteur.fr\\Multicell\\Gustave\\fusionGustave\\TIFF'"
   ]
  },
  {
   "cell_type": "code",
   "execution_count": null,
   "metadata": {},
   "outputs": [],
   "source": [
    "import spheroid\n",
    "Sph = spheroid.spheroid(path, path, path, zRatio, rNoyau, dCells)"
   ]
  },
  {
   "cell_type": "code",
   "execution_count": null,
   "metadata": {},
   "outputs": [],
   "source": [
    "Sph._loadImage(channels[0], 'NucImage')"
   ]
  },
  {
   "cell_type": "code",
   "execution_count": null,
   "metadata": {},
   "outputs": [],
   "source": [
    "import matplotlib.pyplot as plt\n",
    "plt.imshow(Sph.NucImage[10])"
   ]
  },
  {
   "cell_type": "code",
   "execution_count": null,
   "metadata": {},
   "outputs": [],
   "source": [
    "mask = Sph._getMaskImage()"
   ]
  },
  {
   "cell_type": "code",
   "execution_count": null,
   "metadata": {},
   "outputs": [],
   "source": [
    "np.shape(Sph.NucImage[10])"
   ]
  },
  {
   "cell_type": "code",
   "execution_count": null,
   "metadata": {},
   "outputs": [],
   "source": [
    "mask[28]"
   ]
  },
  {
   "cell_type": "code",
   "execution_count": null,
   "metadata": {
    "scrolled": true
   },
   "outputs": [],
   "source": [
    "plt.imshow(mask[50])"
   ]
  },
  {
   "cell_type": "code",
   "execution_count": null,
   "metadata": {},
   "outputs": [],
   "source": [
    "process._sortFiles(path)"
   ]
  },
  {
   "cell_type": "code",
   "execution_count": 5,
   "metadata": {
    "scrolled": true
   },
   "outputs": [
    {
     "name": "stdout",
     "output_type": "stream",
     "text": [
      "prep image: 0 folder and time 2\n",
      "image made, starting nuclei ID\n",
      "(101, 2044, 2048)\n",
      "Convolution Time:  148.66114599999997\n",
      "Coordinates ID Time:  15.150615999999957\n",
      "108 cells ID\n",
      "nuclei gotten, make spheroid\n",
      "refine the analysis over the spheroid\n",
      "\\\\atlas.pasteur.fr\\Multicell\\Gustave\\fusionGustave\\TIFF\\\\Spheroids\\spheroid_0_2.json\n"
     ]
    }
   ],
   "source": [
    "process._makeSingleSpheroidClass(path, '0', '2', zRatio, rNoyau, dCells, channels)"
   ]
  },
  {
   "cell_type": "markdown",
   "metadata": {},
   "source": [
    "Remarquons que la segmentation du spheroide dans un ou l'autre des types de cellules depend ici du classificateur naif que nous avons cree. Il repose sur un fit lineaire des points en fonction de leur couleur. On trouve que ce dernier doit avoir comme pente:\n",
    "\n",
    "$a = \\frac{<xy>}{<x^2>}$\n",
    "\n",
    "Le signe par rapport a celui-ci est donne par:\n",
    "\n",
    "$sign = y - a*x$\n",
    "\n",
    "Ce qui nous donne par consequence un moyen rapide pour affecter un genre a chaque cellule."
   ]
  },
  {
   "cell_type": "code",
   "execution_count": 8,
   "metadata": {},
   "outputs": [],
   "source": [
    "IntensityPath = r'\\\\atlas.pasteur.fr\\Multicell\\Gustave\\fusionGustave\\TIFF\\Spheroids\\\\'"
   ]
  },
  {
   "cell_type": "code",
   "execution_count": 9,
   "metadata": {},
   "outputs": [],
   "source": [
    "df1 = pandas.read_csv(IntensityPath + 'intensityFrame_0_2.csv')"
   ]
  },
  {
   "cell_type": "code",
   "execution_count": 11,
   "metadata": {},
   "outputs": [
    {
     "data": {
      "image/png": "[encoded data removed]",
      "text/plain": [
       "<Figure size 432x288 with 1 Axes>"
      ]
     },
     "metadata": {
      "needs_background": "light"
     },
     "output_type": "display_data"
    }
   ],
   "source": [
    "import matplotlib.pyplot as plt\n",
    "\n",
    "ax1 = df1.plot.scatter(x='Orange',y='Green', c= 'r')"
   ]
  },
  {
   "cell_type": "code",
   "execution_count": 21,
   "metadata": {},
   "outputs": [],
   "source": [
    "a = df1['Orange'].dot(df1['Green'])/(df1['Orange'].dot(df1['Orange']))"
   ]
  },
  {
   "cell_type": "code",
   "execution_count": 22,
   "metadata": {},
   "outputs": [
    {
     "data": {
      "text/plain": [
       "[<matplotlib.lines.Line2D at 0x2c4538f8320>]"
      ]
     },
     "execution_count": 22,
     "metadata": {},
     "output_type": "execute_result"
    },
    {
     "data": {
      "image/png": "[encoded data removed]",
      "text/plain": [
       "<Figure size 432x288 with 1 Axes>"
      ]
     },
     "metadata": {
      "needs_background": "light"
     },
     "output_type": "display_data"
    }
   ],
   "source": [
    "ax1 = df1.plot.scatter(x='Orange',y='Green', c= 'r')\n",
    "plt.plot(df1['Orange'], a*df1['Orange'])"
   ]
  },
  {
   "cell_type": "code",
   "execution_count": 23,
   "metadata": {},
   "outputs": [],
   "source": [
    "from sklearn import datasets\n",
    "#Iris Dataset\n",
    "iris = datasets.load_iris()\n",
    "X = iris.data"
   ]
  },
  {
   "cell_type": "code",
   "execution_count": 39,
   "metadata": {},
   "outputs": [],
   "source": [
    "X = df1[['Orange', 'Green']]"
   ]
  },
  {
   "cell_type": "code",
   "execution_count": 40,
   "metadata": {},
   "outputs": [],
   "source": [
    "from sklearn.cluster import KMeans\n",
    "import matplotlib.pyplot as plt\n",
    "import numpy as np\n",
    "\n",
    "#KMeans\n",
    "km = KMeans(n_clusters=2)\n",
    "km.fit(X)\n",
    "km.predict(X)\n",
    "labels = km.labels_"
   ]
  },
  {
   "cell_type": "code",
   "execution_count": 46,
   "metadata": {},
   "outputs": [
    {
     "data": {
      "text/plain": [
       "Text(0.5, 1.0, 'K Means')"
      ]
     },
     "execution_count": 46,
     "metadata": {},
     "output_type": "execute_result"
    },
    {
     "data": {
      "image/png": "[encoded data removed]",
      "text/plain": [
       "<Figure size 504x504 with 1 Axes>"
      ]
     },
     "metadata": {
      "needs_background": "light"
     },
     "output_type": "display_data"
    }
   ],
   "source": [
    "from sklearn import mixture\n",
    "gmm =  mixture.GaussianMixture(n_components=2).fit(X)\n",
    "labels = gmm.predict(X)\n",
    "fig, ax = plt.subplots(1, figsize=(7,7))\n",
    "ax.scatter(X['Orange'], X['Green'],\n",
    "          c=labels.astype(np.float), edgecolor=\"k\", s=50)\n",
    "ax.set_xlabel(\"Petal width\")\n",
    "ax.set_ylabel(\"Sepal length\")\n",
    "plt.title(\"Gaussian Mixture\", fontsize=14)"
   ]
  },
  {
   "cell_type": "markdown",
   "metadata": {},
   "source": [
    "### Refined analysis\n",
    "\n",
    "We use the refined metrics of networkx to add centrality, degree and other measures to the death/survival rates of the spheroid. The following process follows:\n",
    "\n",
    " - open json file\n",
    " - modify the spheroid properties\n",
    " - save global properties in soheroid file\n",
    " - save file"
   ]
  },
  {
   "cell_type": "code",
   "execution_count": null,
   "metadata": {},
   "outputs": [],
   "source": [
    "def _refineSph(dic):\n",
    "    \n",
    "    G = _makeG(dic)\n",
    "    \n",
    "    A = networkx.betweenness_centrality(G) # betweeness centrality\n",
    "    B = networkx.clustering(G)\n",
    "    C = networkx.degree(G)\n",
    "    \n",
    "    for v in G:\n",
    "        \n",
    "        dic['cells'][v]['degree'] = C[v]\n",
    "        dic['cells'][v]['clustering'] = B[v]\n",
    "        dic['cells'][v]['centrality'] = A[v]\n",
    "        \n",
    "    dic['N'] = len(dic['cells'])\n",
    "    dic['assortativity'] = nx.degree_assortativity_coefficient(G)\n",
    "    dic['average degree'] = np.asarray([float(C[v]) for v in G]).mean()\n",
    "    \n",
    "    return dic"
   ]
  },
  {
   "cell_type": "code",
   "execution_count": null,
   "metadata": {},
   "outputs": [],
   "source": [
    "_refineSph(_Sph)\n",
    "\n",
    "process._saveSpheroid(_Sph.Spheroid, path + '\\spheroid_' + spheroidFolder + r'_' +  timeFolder + '.json')"
   ]
  }
 ],
 "metadata": {
  "kernelspec": {
   "display_name": "Python 3",
   "language": "python",
   "name": "python3"
  },
  "language_info": {
   "codemirror_mode": {
    "name": "ipython",
    "version": 3
   },
   "file_extension": ".py",
   "mimetype": "text/x-python",
   "name": "python",
   "nbconvert_exporter": "python",
   "pygments_lexer": "ipython3",
   "version": "3.7.0"
  }
 },
 "nbformat": 4,
 "nbformat_minor": 2
}
