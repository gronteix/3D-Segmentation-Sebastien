{
 "cells": [
  {
   "cell_type": "code",
   "execution_count": 1,
   "metadata": {},
   "outputs": [],
   "source": [
    "import os\n",
    "import numpy as np\n",
    "import networkx as nx\n",
    "\n",
    "import process\n",
    "import pandas"
   ]
  },
  {
   "cell_type": "markdown",
   "metadata": {},
   "source": [
    "# Chip analysis\n",
    "\n",
    "The following notebook is an analysis notebook. It has been conceived to order and analyse a dump of confocal images. All questions concerning the code should be emailed to gustave.ronteix@pasteur.fr."
   ]
  },
  {
   "cell_type": "markdown",
   "metadata": {},
   "source": [
    "### Processing\n",
    "\n",
    "The grunt functions are called from process.\n",
    "\n",
    "Attention: verify the channel order."
   ]
  },
  {
   "cell_type": "code",
   "execution_count": 7,
   "metadata": {},
   "outputs": [],
   "source": [
    "livePosition = 2\n",
    "green = 0\n",
    "orange = 1\n",
    "\n",
    "channels = [livePosition, green, orange]\n",
    "\n",
    "zRatio = 1/3\n",
    "rNoyau = 9\n",
    "dCells = 70\n",
    "\n",
    "path = r'\\\\atlas.pasteur.fr\\Multicell\\Gustave\\fusionGustave\\TIFF\\0\\2\\0'"
   ]
  },
  {
   "cell_type": "code",
   "execution_count": null,
   "metadata": {},
   "outputs": [],
   "source": [
    "import spheroid\n",
    "Sph = spheroid.spheroid(path, path, path, zRatio, rNoyau, dCells)"
   ]
  },
  {
   "cell_type": "code",
   "execution_count": null,
   "metadata": {},
   "outputs": [],
   "source": [
    "Sph._loadImage(channels[0], 'NucImage')"
   ]
  },
  {
   "cell_type": "code",
   "execution_count": null,
   "metadata": {},
   "outputs": [],
   "source": [
    "import matplotlib.pyplot as plt\n",
    "plt.imshow(Sph.NucImage[10])"
   ]
  },
  {
   "cell_type": "code",
   "execution_count": null,
   "metadata": {},
   "outputs": [],
   "source": [
    "mask = Sph._getMaskImage()"
   ]
  },
  {
   "cell_type": "code",
   "execution_count": null,
   "metadata": {},
   "outputs": [],
   "source": [
    "np.shape(Sph.NucImage[10])"
   ]
  },
  {
   "cell_type": "code",
   "execution_count": null,
   "metadata": {},
   "outputs": [],
   "source": [
    "mask[28]"
   ]
  },
  {
   "cell_type": "code",
   "execution_count": null,
   "metadata": {
    "scrolled": true
   },
   "outputs": [],
   "source": [
    "plt.imshow(mask[50])"
   ]
  },
  {
   "cell_type": "code",
   "execution_count": null,
   "metadata": {},
   "outputs": [],
   "source": [
    "process._sortFiles(path)"
   ]
  },
  {
   "cell_type": "code",
   "execution_count": 10,
   "metadata": {
    "scrolled": true
   },
   "outputs": [
    {
     "name": "stdout",
     "output_type": "stream",
     "text": [
      "prep image: 2 folder and time 0\n"
     ]
    },
    {
     "ename": "FileNotFoundError",
     "evalue": "[WinError 3] The system cannot find the path specified: '\\\\\\\\atlas.pasteur.fr\\\\Multicell\\\\Gustave\\\\fusionGustave\\\\TIFF\\\\0\\\\2\\\\0\\\\\\\\2\\\\\\\\0'",
     "output_type": "error",
     "traceback": [
      "\u001b[1;31m---------------------------------------------------------------------------\u001b[0m",
      "\u001b[1;31mFileNotFoundError\u001b[0m                         Traceback (most recent call last)",
      "\u001b[1;32m<ipython-input-10-fbb33087a2ac>\u001b[0m in \u001b[0;36m<module>\u001b[1;34m\u001b[0m\n\u001b[1;32m----> 1\u001b[1;33m \u001b[0mprocess\u001b[0m\u001b[1;33m.\u001b[0m\u001b[0m_makeSingleSpheroidClass\u001b[0m\u001b[1;33m(\u001b[0m\u001b[0mpath\u001b[0m\u001b[1;33m,\u001b[0m \u001b[1;34m'2'\u001b[0m\u001b[1;33m,\u001b[0m \u001b[1;34m'0'\u001b[0m\u001b[1;33m,\u001b[0m \u001b[0mzRatio\u001b[0m\u001b[1;33m,\u001b[0m \u001b[0mrNoyau\u001b[0m\u001b[1;33m,\u001b[0m \u001b[0mdCells\u001b[0m\u001b[1;33m,\u001b[0m \u001b[0mchannels\u001b[0m\u001b[1;33m)\u001b[0m\u001b[1;33m\u001b[0m\u001b[0m\n\u001b[0m",
      "\u001b[1;32m~\\Documents\\Python Scripts\\3D-segmentation-Seb\\process.py\u001b[0m in \u001b[0;36m_makeSingleSpheroidClass\u001b[1;34m(path, spheroidFolder, timeFolder, zRatio, rNoyau, dCells, channels)\u001b[0m\n\u001b[0;32m     72\u001b[0m     \u001b[1;32mif\u001b[0m \u001b[0mlen\u001b[0m\u001b[1;33m(\u001b[0m\u001b[0mchannels\u001b[0m\u001b[1;33m)\u001b[0m \u001b[1;33m==\u001b[0m \u001b[1;36m3\u001b[0m\u001b[1;33m:\u001b[0m \u001b[1;31m# Improve dependancy on channel number...\u001b[0m\u001b[1;33m\u001b[0m\u001b[0m\n\u001b[0;32m     73\u001b[0m \u001b[1;33m\u001b[0m\u001b[0m\n\u001b[1;32m---> 74\u001b[1;33m         \u001b[0mSph\u001b[0m\u001b[1;33m.\u001b[0m\u001b[0m_loadImage\u001b[0m\u001b[1;33m(\u001b[0m\u001b[0mchannels\u001b[0m\u001b[1;33m[\u001b[0m\u001b[1;36m0\u001b[0m\u001b[1;33m]\u001b[0m\u001b[1;33m,\u001b[0m \u001b[1;34m'NucImage'\u001b[0m\u001b[1;33m)\u001b[0m \u001b[1;31m# Load live cells\u001b[0m\u001b[1;33m\u001b[0m\u001b[0m\n\u001b[0m\u001b[0;32m     75\u001b[0m         \u001b[0mSph\u001b[0m\u001b[1;33m.\u001b[0m\u001b[0m_loadImage\u001b[0m\u001b[1;33m(\u001b[0m\u001b[0mchannels\u001b[0m\u001b[1;33m[\u001b[0m\u001b[1;36m1\u001b[0m\u001b[1;33m]\u001b[0m\u001b[1;33m,\u001b[0m \u001b[1;34m'GreenImage'\u001b[0m\u001b[1;33m)\u001b[0m \u001b[1;31m# Load green cells\u001b[0m\u001b[1;33m\u001b[0m\u001b[0m\n\u001b[0;32m     76\u001b[0m         \u001b[0mSph\u001b[0m\u001b[1;33m.\u001b[0m\u001b[0m_loadImage\u001b[0m\u001b[1;33m(\u001b[0m\u001b[0mchannels\u001b[0m\u001b[1;33m[\u001b[0m\u001b[1;36m2\u001b[0m\u001b[1;33m]\u001b[0m\u001b[1;33m,\u001b[0m \u001b[1;34m'OrangeImage'\u001b[0m\u001b[1;33m)\u001b[0m \u001b[1;31m# Load orange cells\u001b[0m\u001b[1;33m\u001b[0m\u001b[0m\n",
      "\u001b[1;32m~\\Documents\\Python Scripts\\3D-segmentation-Seb\\spheroid.py\u001b[0m in \u001b[0;36m_loadImage\u001b[1;34m(self, channel, type)\u001b[0m\n\u001b[0;32m     66\u001b[0m \u001b[1;33m\u001b[0m\u001b[0m\n\u001b[0;32m     67\u001b[0m         \u001b[0mimage_list\u001b[0m \u001b[1;33m=\u001b[0m \u001b[1;33m[\u001b[0m\u001b[1;33m]\u001b[0m\u001b[1;33m\u001b[0m\u001b[0m\n\u001b[1;32m---> 68\u001b[1;33m         \u001b[1;32mfor\u001b[0m \u001b[0mfilename\u001b[0m \u001b[1;32min\u001b[0m \u001b[0msorted\u001b[0m\u001b[1;33m(\u001b[0m\u001b[0mos\u001b[0m\u001b[1;33m.\u001b[0m\u001b[0mlistdir\u001b[0m\u001b[1;33m(\u001b[0m\u001b[0mself\u001b[0m\u001b[1;33m.\u001b[0m\u001b[0mPath\u001b[0m\u001b[1;33m)\u001b[0m\u001b[1;33m)\u001b[0m\u001b[1;33m:\u001b[0m \u001b[1;31m#assuming tif\u001b[0m\u001b[1;33m\u001b[0m\u001b[0m\n\u001b[0m\u001b[0;32m     69\u001b[0m \u001b[1;33m\u001b[0m\u001b[0m\n\u001b[0;32m     70\u001b[0m             \u001b[1;32mif\u001b[0m \u001b[1;34m'.tif'\u001b[0m \u001b[1;32min\u001b[0m \u001b[0mfilename\u001b[0m\u001b[1;33m:\u001b[0m\u001b[1;33m\u001b[0m\u001b[0m\n",
      "\u001b[1;31mFileNotFoundError\u001b[0m: [WinError 3] The system cannot find the path specified: '\\\\\\\\atlas.pasteur.fr\\\\Multicell\\\\Gustave\\\\fusionGustave\\\\TIFF\\\\0\\\\2\\\\0\\\\\\\\2\\\\\\\\0'"
     ]
    }
   ],
   "source": [
    "process._makeSingleSpheroidClass(path, '2', '0', zRatio, rNoyau, dCells, channels)"
   ]
  },
  {
   "cell_type": "markdown",
   "metadata": {},
   "source": [
    "Remarquons que la segmentation du spheroide dans un ou l'autre des types de cellules depend ici du classificateur naif que nous avons cree. Il repose sur un fit lineaire des points en fonction de leur couleur. On trouve que ce dernier doit avoir comme pente:\n",
    "\n",
    "$a = \\frac{<xy>}{<x^2>}$\n",
    "\n",
    "Le signe par rapport a celui-ci est donne par:\n",
    "\n",
    "$sign = y - a*x$\n",
    "\n",
    "Ce qui nous donne par consequence un moyen rapide pour affecter un genre a chaque cellule."
   ]
  },
  {
   "cell_type": "code",
   "execution_count": null,
   "metadata": {},
   "outputs": [],
   "source": [
    "IntensityPath = r'X:\\Gustave\\Experiments\\Nuclei Segmentation\\04072019\\Seb\\tif\\Spheroids\\\\'"
   ]
  },
  {
   "cell_type": "code",
   "execution_count": null,
   "metadata": {},
   "outputs": [],
   "source": [
    "df1 = pandas.read_csv(IntensityPath + 'intensityFrame_00_00.csv')\n",
    "df2 = pandas.read_csv(IntensityPath + 'intensityFrame_01_00.csv')"
   ]
  },
  {
   "cell_type": "code",
   "execution_count": null,
   "metadata": {},
   "outputs": [],
   "source": [
    "import matplotlib.pyplot as plt\n",
    "\n",
    "\n",
    "ax1 = df1.plot.scatter(x='Orange',y='Green', c= 'r')\n",
    "df2.plot.scatter(x='Orange',y='Green', ax = ax1)\n",
    "plt.plot(df['Orange'], a*df['Orange'], 'g-')"
   ]
  },
  {
   "cell_type": "code",
   "execution_count": null,
   "metadata": {},
   "outputs": [],
   "source": [
    "df = df1.append(df2)"
   ]
  },
  {
   "cell_type": "code",
   "execution_count": null,
   "metadata": {},
   "outputs": [],
   "source": [
    "a = df['Orange'].dot(df['Green'])/df['Orange'].dot(df['Orange'])"
   ]
  },
  {
   "cell_type": "code",
   "execution_count": null,
   "metadata": {},
   "outputs": [],
   "source": [
    "len(df.loc[df['Green']-a*df['Orange']<0])"
   ]
  },
  {
   "cell_type": "markdown",
   "metadata": {},
   "source": [
    "### Refined analysis\n",
    "\n",
    "We use the refined metrics of networkx to add centrality, degree and other measures to the death/survival rates of the spheroid. The following process follows:\n",
    "\n",
    " - open json file\n",
    " - modify the spheroid properties\n",
    " - save global properties in soheroid file\n",
    " - save file"
   ]
  },
  {
   "cell_type": "code",
   "execution_count": null,
   "metadata": {},
   "outputs": [],
   "source": [
    "def _refineSph(dic):\n",
    "    \n",
    "    G = _makeG(dic)\n",
    "    \n",
    "    A = networkx.betweenness_centrality(G) # betweeness centrality\n",
    "    B = networkx.clustering(G)\n",
    "    C = networkx.degree(G)\n",
    "    \n",
    "    for v in G:\n",
    "        \n",
    "        dic['cells'][v]['degree'] = C[v]\n",
    "        dic['cells'][v]['clustering'] = B[v]\n",
    "        dic['cells'][v]['centrality'] = A[v]\n",
    "        \n",
    "    dic['N'] = len(dic['cells'])\n",
    "    dic['assortativity'] = nx.degree_assortativity_coefficient(G)\n",
    "    dic['average degree'] = np.asarray([float(C[v]) for v in G]).mean()\n",
    "    \n",
    "    return dic"
   ]
  },
  {
   "cell_type": "code",
   "execution_count": null,
   "metadata": {},
   "outputs": [],
   "source": [
    "_refineSph(_Sph)\n",
    "\n",
    "process._saveSpheroid(_Sph.Spheroid, path + '\\spheroid_' + spheroidFolder + r'_' +  timeFolder + '.json')"
   ]
  }
 ],
 "metadata": {
  "kernelspec": {
   "display_name": "Python 3",
   "language": "python",
   "name": "python3"
  },
  "language_info": {
   "codemirror_mode": {
    "name": "ipython",
    "version": 3
   },
   "file_extension": ".py",
   "mimetype": "text/x-python",
   "name": "python",
   "nbconvert_exporter": "python",
   "pygments_lexer": "ipython3",
   "version": "3.7.0"
  }
 },
 "nbformat": 4,
 "nbformat_minor": 2
}
