{
 "cells": [
  {
   "cell_type": "code",
   "execution_count": 1,
   "metadata": {},
   "outputs": [],
   "source": [
    "import os\n",
    "import numpy as np\n",
    "import networkx as nx\n",
    "\n",
    "import process\n",
    "import pandas"
   ]
  },
  {
   "cell_type": "markdown",
   "metadata": {},
   "source": [
    "# Chip analysis\n",
    "\n",
    "The following notebook is an analysis notebook. It has been conceived to order and analyse a dump of confocal images. All questions concerning the code should be emailed to gustave.ronteix@pasteur.fr."
   ]
  },
  {
   "cell_type": "markdown",
   "metadata": {},
   "source": [
    "### Processing\n",
    "\n",
    "The grunt functions are called from process.\n",
    "\n",
    "Attention: verify the channel order."
   ]
  },
  {
   "cell_type": "code",
   "execution_count": 2,
   "metadata": {},
   "outputs": [],
   "source": [
    "livePosition = 2\n",
    "green = 0\n",
    "orange = 1\n",
    "\n",
    "channels = [livePosition, green, orange]\n",
    "\n",
    "zRatio = 1/3\n",
    "rNoyau = 9\n",
    "dCells = 70\n",
    "\n",
    "path = r'\\\\atlas.pasteur.fr\\Multicell\\Gustave\\fusionGustave\\TIFF BIS'"
   ]
  },
  {
   "cell_type": "code",
   "execution_count": null,
   "metadata": {},
   "outputs": [],
   "source": [
    "process._sortFiles(path)"
   ]
  },
  {
   "cell_type": "code",
   "execution_count": 3,
   "metadata": {
    "scrolled": true
   },
   "outputs": [
    {
     "data": {
      "application/vnd.jupyter.widget-view+json": {
       "model_id": "4b05b68b86cc44ceadb4ccacb10c9714",
       "version_major": 2,
       "version_minor": 0
      },
      "text/plain": [
       "HBox(children=(IntProgress(value=0, max=6), HTML(value='')))"
      ]
     },
     "metadata": {},
     "output_type": "display_data"
    },
    {
     "name": "stdout",
     "output_type": "stream",
     "text": [
      "prep image: 1 folder and time 19\n",
      "image made, starting nuclei ID\n",
      "Convolution Time:  170.587503\n",
      "Coordinates ID Time:  16.903641499999992\n",
      "94 cells ID\n",
      "nuclei gotten, make spheroid\n",
      "refine the analysis over the spheroid\n",
      "\\\\atlas.pasteur.fr\\Multicell\\Gustave\\fusionGustave\\TIFF BIS\\\\Spheroids\\spheroid_1_19.json\n",
      "prep image: 1 folder and time 2\n",
      "image made, starting nuclei ID\n",
      "Convolution Time:  141.37066430000004\n",
      "Coordinates ID Time:  16.27536370000007\n",
      "153 cells ID\n",
      "nuclei gotten, make spheroid\n",
      "refine the analysis over the spheroid\n",
      "\\\\atlas.pasteur.fr\\Multicell\\Gustave\\fusionGustave\\TIFF BIS\\\\Spheroids\\spheroid_1_2.json\n",
      "prep image: 1 folder and time 22\n",
      "image made, starting nuclei ID\n",
      "Convolution Time:  139.34641140000008\n",
      "Coordinates ID Time:  16.115925199999992\n",
      "0 cells ID\n",
      "nuclei gotten, make spheroid\n",
      "refine the analysis over the spheroid\n",
      "No graph could be generated\n",
      "prep image: 1 folder and time 5\n",
      "image made, starting nuclei ID\n",
      "Convolution Time:  132.9942112000001\n",
      "Coordinates ID Time:  15.849795299999869\n",
      "24 cells ID\n",
      "nuclei gotten, make spheroid\n",
      "refine the analysis over the spheroid\n",
      "\\\\atlas.pasteur.fr\\Multicell\\Gustave\\fusionGustave\\TIFF BIS\\\\Spheroids\\spheroid_1_5.json\n",
      "prep image: 2 folder and time 19\n",
      "image made, starting nuclei ID\n",
      "Convolution Time:  150.15417800000023\n",
      "Coordinates ID Time:  16.4314202999999\n",
      "34 cells ID\n",
      "nuclei gotten, make spheroid\n",
      "refine the analysis over the spheroid\n",
      "\\\\atlas.pasteur.fr\\Multicell\\Gustave\\fusionGustave\\TIFF BIS\\\\Spheroids\\spheroid_2_19.json\n",
      "prep image: 2 folder and time 2\n",
      "image made, starting nuclei ID\n",
      "Convolution Time:  147.72784290000027\n",
      "Coordinates ID Time:  16.187714300000152\n",
      "99 cells ID\n",
      "nuclei gotten, make spheroid\n",
      "refine the analysis over the spheroid\n",
      "\\\\atlas.pasteur.fr\\Multicell\\Gustave\\fusionGustave\\TIFF BIS\\\\Spheroids\\spheroid_2_2.json\n",
      "prep image: 2 folder and time 22\n",
      "image made, starting nuclei ID\n",
      "Convolution Time:  138.1632050000003\n",
      "Coordinates ID Time:  18.122519600000032\n",
      "0 cells ID\n",
      "nuclei gotten, make spheroid\n",
      "refine the analysis over the spheroid\n",
      "No graph could be generated\n",
      "prep image: 2 folder and time 5\n",
      "image made, starting nuclei ID\n",
      "Convolution Time:  145.95281410000007\n",
      "Coordinates ID Time:  16.118962900000042\n",
      "1 cells ID\n",
      "nuclei gotten, make spheroid\n",
      "refine the analysis over the spheroid\n",
      "No graph could be generated\n",
      "prep image: 3 folder and time 19\n",
      "image made, starting nuclei ID\n",
      "Convolution Time:  153.29873529999986\n",
      "Coordinates ID Time:  16.28335810000044\n",
      "68 cells ID\n",
      "nuclei gotten, make spheroid\n",
      "refine the analysis over the spheroid\n",
      "\\\\atlas.pasteur.fr\\Multicell\\Gustave\\fusionGustave\\TIFF BIS\\\\Spheroids\\spheroid_3_19.json\n",
      "prep image: 3 folder and time 2\n",
      "image made, starting nuclei ID\n",
      "Convolution Time:  149.8221364000001\n",
      "Coordinates ID Time:  16.40811769999982\n",
      "112 cells ID\n",
      "nuclei gotten, make spheroid\n",
      "refine the analysis over the spheroid\n",
      "\\\\atlas.pasteur.fr\\Multicell\\Gustave\\fusionGustave\\TIFF BIS\\\\Spheroids\\spheroid_3_2.json\n",
      "prep image: 3 folder and time 22\n",
      "image made, starting nuclei ID\n",
      "Convolution Time:  151.31405859999995\n",
      "Coordinates ID Time:  16.03454150000016\n",
      "0 cells ID\n",
      "nuclei gotten, make spheroid\n",
      "refine the analysis over the spheroid\n",
      "No graph could be generated\n",
      "prep image: 3 folder and time 5\n",
      "image made, starting nuclei ID\n",
      "Convolution Time:  138.76528469999994\n",
      "Coordinates ID Time:  15.6840444999998\n",
      "14 cells ID\n",
      "nuclei gotten, make spheroid\n",
      "refine the analysis over the spheroid\n",
      "\\\\atlas.pasteur.fr\\Multicell\\Gustave\\fusionGustave\\TIFF BIS\\\\Spheroids\\spheroid_3_5.json\n",
      "prep image: 4 folder and time 19\n",
      "image made, starting nuclei ID\n",
      "Convolution Time:  142.4432740000002\n",
      "Coordinates ID Time:  16.066641499999605\n",
      "39 cells ID\n",
      "nuclei gotten, make spheroid\n",
      "refine the analysis over the spheroid\n",
      "\\\\atlas.pasteur.fr\\Multicell\\Gustave\\fusionGustave\\TIFF BIS\\\\Spheroids\\spheroid_4_19.json\n",
      "prep image: 4 folder and time 22\n",
      "image made, starting nuclei ID\n",
      "Convolution Time:  168.4698360000002\n",
      "Coordinates ID Time:  15.616252700001496\n",
      "0 cells ID\n",
      "nuclei gotten, make spheroid\n",
      "refine the analysis over the spheroid\n",
      "No graph could be generated\n",
      "prep image: 4 folder and time 5\n",
      "image made, starting nuclei ID\n",
      "Convolution Time:  152.29631789999985\n",
      "Coordinates ID Time:  15.917287100000976\n",
      "21 cells ID\n",
      "nuclei gotten, make spheroid\n",
      "refine the analysis over the spheroid\n",
      "\\\\atlas.pasteur.fr\\Multicell\\Gustave\\fusionGustave\\TIFF BIS\\\\Spheroids\\spheroid_4_5.json\n",
      "prep image: 5 folder and time 19\n",
      "image made, starting nuclei ID\n",
      "Convolution Time:  146.9679632999996\n",
      "Coordinates ID Time:  16.085321900000054\n",
      "74 cells ID\n",
      "nuclei gotten, make spheroid\n",
      "refine the analysis over the spheroid\n",
      "\\\\atlas.pasteur.fr\\Multicell\\Gustave\\fusionGustave\\TIFF BIS\\\\Spheroids\\spheroid_5_19.json\n",
      "prep image: 5 folder and time 22\n",
      "image made, starting nuclei ID\n",
      "Convolution Time:  148.5956344999995\n",
      "Coordinates ID Time:  15.932507299999997\n",
      "0 cells ID\n",
      "nuclei gotten, make spheroid\n",
      "refine the analysis over the spheroid\n",
      "No graph could be generated\n",
      "\n",
      "Spheroids made\n"
     ]
    }
   ],
   "source": [
    "process._makeSpheroidClass(path, zRatio, rNoyau, dCells, channels)"
   ]
  },
  {
   "cell_type": "markdown",
   "metadata": {},
   "source": [
    "Remarquons que la segmentation du spheroide dans un ou l'autre des types de cellules depend ici du classificateur naif que nous avons cree. Il repose sur un fit lineaire des points en fonction de leur couleur. On trouve que ce dernier doit avoir comme pente:\n",
    "\n",
    "$a = \\frac{<xy>}{<x^2>}$\n",
    "\n",
    "Le signe par rapport a celui-ci est donne par:\n",
    "\n",
    "$sign = y - a*x$\n",
    "\n",
    "Ce qui nous donne par consequence un moyen rapide pour affecter un genre a chaque cellule."
   ]
  },
  {
   "cell_type": "code",
   "execution_count": null,
   "metadata": {},
   "outputs": [],
   "source": [
    "IntensityPath = r'\\\\atlas.pasteur.fr\\Multicell\\Gustave\\fusionGustave\\TIFF\\Spheroids\\\\'"
   ]
  },
  {
   "cell_type": "code",
   "execution_count": null,
   "metadata": {},
   "outputs": [],
   "source": [
    "df1 = pandas.read_csv(IntensityPath + 'intensityFrame_0_2.csv')"
   ]
  },
  {
   "cell_type": "code",
   "execution_count": null,
   "metadata": {},
   "outputs": [],
   "source": [
    "import matplotlib.pyplot as plt\n",
    "\n",
    "ax1 = df1.plot.scatter(x='Orange',y='Green', c= 'r')"
   ]
  },
  {
   "cell_type": "code",
   "execution_count": null,
   "metadata": {},
   "outputs": [],
   "source": [
    "a = df1['Orange'].dot(df1['Green'])/(df1['Orange'].dot(df1['Orange']))"
   ]
  },
  {
   "cell_type": "code",
   "execution_count": null,
   "metadata": {},
   "outputs": [],
   "source": [
    "ax1 = df1.plot.scatter(x='Orange',y='Green', c= 'r')\n",
    "plt.plot(df1['Orange'], a*df1['Orange'])"
   ]
  },
  {
   "cell_type": "code",
   "execution_count": null,
   "metadata": {},
   "outputs": [],
   "source": [
    "from sklearn import datasets\n",
    "#Iris Dataset\n",
    "iris = datasets.load_iris()\n",
    "X = iris.data"
   ]
  },
  {
   "cell_type": "code",
   "execution_count": null,
   "metadata": {},
   "outputs": [],
   "source": [
    "X = df1[['Orange', 'Green']]"
   ]
  },
  {
   "cell_type": "code",
   "execution_count": null,
   "metadata": {},
   "outputs": [],
   "source": [
    "from sklearn.cluster import KMeans\n",
    "import matplotlib.pyplot as plt\n",
    "import numpy as np\n",
    "\n",
    "#KMeans\n",
    "km = KMeans(n_clusters=2)\n",
    "km.fit(X)\n",
    "km.predict(X)\n",
    "labels = km.labels_"
   ]
  },
  {
   "cell_type": "code",
   "execution_count": null,
   "metadata": {},
   "outputs": [],
   "source": [
    "df1['newLabels'] = labels"
   ]
  },
  {
   "cell_type": "code",
   "execution_count": null,
   "metadata": {},
   "outputs": [],
   "source": [
    "df1"
   ]
  },
  {
   "cell_type": "code",
   "execution_count": null,
   "metadata": {},
   "outputs": [],
   "source": [
    "from sklearn import mixture\n",
    "gmm =  mixture.GaussianMixture(n_components=2).fit(X)\n",
    "labels = gmm.predict(X)\n",
    "fig, ax = plt.subplots(1, figsize=(7,7))\n",
    "ax.scatter(X['Orange'], X['Green'],\n",
    "          c=labels.astype(np.float), edgecolor=\"k\", s=50)\n",
    "ax.set_xlabel(\"Petal width\")\n",
    "ax.set_ylabel(\"Sepal length\")\n",
    "plt.title(\"Gaussian Mixture\", fontsize=14)"
   ]
  },
  {
   "cell_type": "markdown",
   "metadata": {},
   "source": [
    "### Refined analysis\n",
    "\n",
    "We use the refined metrics of networkx to add centrality, degree and other measures to the death/survival rates of the spheroid. The following process follows:\n",
    "\n",
    " - open json file\n",
    " - modify the spheroid properties\n",
    " - save global properties in soheroid file\n",
    " - save file"
   ]
  },
  {
   "cell_type": "code",
   "execution_count": null,
   "metadata": {},
   "outputs": [],
   "source": [
    "def _refineSph(dic):\n",
    "    \n",
    "    G = _makeG(dic)\n",
    "    \n",
    "    A = networkx.betweenness_centrality(G) # betweeness centrality\n",
    "    B = networkx.clustering(G)\n",
    "    C = networkx.degree(G)\n",
    "    \n",
    "    for v in G:\n",
    "        \n",
    "        dic['cells'][v]['degree'] = C[v]\n",
    "        dic['cells'][v]['clustering'] = B[v]\n",
    "        dic['cells'][v]['centrality'] = A[v]\n",
    "        \n",
    "    dic['N'] = len(dic['cells'])\n",
    "    dic['assortativity'] = nx.degree_assortativity_coefficient(G)\n",
    "    dic['average degree'] = np.asarray([float(C[v]) for v in G]).mean()\n",
    "    \n",
    "    return dic"
   ]
  },
  {
   "cell_type": "code",
   "execution_count": null,
   "metadata": {},
   "outputs": [],
   "source": [
    "_refineSph(_Sph)\n",
    "\n",
    "process._saveSpheroid(_Sph.Spheroid, path + '\\spheroid_' + spheroidFolder + r'_' +  timeFolder + '.json')"
   ]
  }
 ],
 "metadata": {
  "kernelspec": {
   "display_name": "Python 3",
   "language": "python",
   "name": "python3"
  },
  "language_info": {
   "codemirror_mode": {
    "name": "ipython",
    "version": 3
   },
   "file_extension": ".py",
   "mimetype": "text/x-python",
   "name": "python",
   "nbconvert_exporter": "python",
   "pygments_lexer": "ipython3",
   "version": "3.7.0"
  }
 },
 "nbformat": 4,
 "nbformat_minor": 2
}
