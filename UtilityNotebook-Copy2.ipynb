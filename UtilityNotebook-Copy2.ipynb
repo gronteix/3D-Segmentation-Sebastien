{
 "cells": [
  {
   "cell_type": "code",
   "execution_count": 2,
   "metadata": {},
   "outputs": [],
   "source": [
    "import os\n",
    "import numpy as np\n",
    "import networkx as nx\n",
    "\n",
    "import process\n",
    "import pandas"
   ]
  },
  {
   "cell_type": "markdown",
   "metadata": {},
   "source": [
    "# Chip analysis\n",
    "\n",
    "The following notebook is an analysis notebook. It has been conceived to order and analyse a dump of confocal images. All questions concerning the code should be emailed to gustave.ronteix@pasteur.fr."
   ]
  },
  {
   "cell_type": "markdown",
   "metadata": {},
   "source": [
    "These cells are to be used as fitting parameters for the cell"
   ]
  },
  {
   "cell_type": "code",
   "execution_count": 6,
   "metadata": {},
   "outputs": [],
   "source": [
    "path = r'\\\\atlas.pasteur.fr\\Multicell\\Gustave\\fusionGustave\\TIFF BIS\\1\\19'\n",
    "\n",
    "livePosition = 2\n",
    "green = 0\n",
    "orange = 1\n",
    "\n",
    "channels = [livePosition, green, orange]\n",
    "\n",
    "zRatio = 1/6\n",
    "r = 10\n",
    "d = 25\n",
    "pxtoum = 1/3\n",
    "\n",
    "dX = 2*(int(r/pxtoum)//2)+1\n",
    "dY = 2*(int(r/pxtoum)//2)+1\n",
    "dZ = 2*(int(zRatio*r/pxtoum)//2)+1\n",
    "\n",
    "rNoyau = (dZ, dX, dY)\n",
    "\n",
    "dX = 2*(int(d/pxtoum)//2)+1\n",
    "dY = 2*(int(d/pxtoum)//2)+1\n",
    "dZ = 2*(int(zRatio*d/pxtoum)//2)+1\n",
    "\n",
    "dCells = (dZ, dX, dY)\n",
    "\n",
    "minmass = 3000"
   ]
  },
  {
   "cell_type": "code",
   "execution_count": null,
   "metadata": {},
   "outputs": [],
   "source": [
    "import spheroid\n",
    "\n",
    "Sph = spheroid.spheroid(path, '1', '19', zRatio, r, d,pxtoum, minmass)\n",
    "    # Initialize spheroid\n",
    "\n",
    "if len(channels) == 3: # Improve dependancy on channel number...\n",
    "\n",
    "    Sph._loadImage(channels[0], 'NucImage') # Load live cells\n",
    "    Sph._loadImage(channels[1], 'GreenImage') # Load green cells\n",
    "    Sph._loadImage(channels[2], 'OrangeImage') # Load orange cells\n",
    "\n",
    "else: print(\"Wrong number of color channels\")\n",
    "\n",
    "print('image made, starting nuclei ID')"
   ]
  },
  {
   "cell_type": "code",
   "execution_count": null,
   "metadata": {},
   "outputs": [],
   "source": [
    "from trackpy import preprocessing\n",
    "import trackpy\n",
    "\n",
    "df = trackpy.locate(Sph.NucImage[:,:,:], rNoyau, minmass=None, maxsize=None, separation=None, noise_size=2, \n",
    "                    smoothing_size=None, threshold=None, invert=False, percentile=64, topn=180, \n",
    "                    preprocess=True, max_iterations=10, filter_before=None, filter_after=None, characterize=True, \n",
    "                    engine='numba')"
   ]
  },
  {
   "cell_type": "code",
   "execution_count": null,
   "metadata": {},
   "outputs": [],
   "source": [
    "import matplotlib.pyplot as plt\n",
    "from skimage import exposure\n",
    "from scipy.ndimage import gaussian_filter\n",
    "\n",
    "fd = df.loc[df['mass'] > minmass]\n",
    "\n",
    "fd =fd.loc[((fd['x'] -fd['x'].mean())**2 < 4*fd['x'].std()**2) &\n",
    "          ((fd['y'] -fd['y'].mean())**2 < 4*fd['y'].std()**2)]\n",
    "\n",
    "img_eq = exposure.equalize_hist(Sph.NucImage[55,250:1750,250:1750])\n",
    "im =  gaussian_filter(img_eq, sigma=2)\n",
    "\n",
    "ax, fig = plt.subplots(figsize = (6,6))\n",
    "plt.imshow(im)\n",
    "plt.scatter(fd['x']-250, fd['y']-250, c = 'r', s = 5)"
   ]
  },
  {
   "cell_type": "markdown",
   "metadata": {},
   "source": [
    "### Processing\n",
    "\n",
    "The grunt functions are called from process.\n",
    "\n",
    "Attention: verify the channel order."
   ]
  },
  {
   "cell_type": "code",
   "execution_count": 9,
   "metadata": {},
   "outputs": [],
   "source": [
    "path = r'\\\\atlas.pasteur.fr\\Multicell\\Gustave\\fusionGustave\\TIFF BIS'\n",
    "spheroidFolder = '1'\n",
    "timeFolder = '19'"
   ]
  },
  {
   "cell_type": "code",
   "execution_count": null,
   "metadata": {},
   "outputs": [],
   "source": [
    "process._sortFiles(path)"
   ]
  },
  {
   "cell_type": "code",
   "execution_count": 11,
   "metadata": {
    "scrolled": true
   },
   "outputs": [
    {
     "data": {
      "application/vnd.jupyter.widget-view+json": {
       "model_id": "265c7a2846da4020a3b19efecf023a67",
       "version_major": 2,
       "version_minor": 0
      },
      "text/plain": [
       "HBox(children=(IntProgress(value=0, max=7), HTML(value='')))"
      ]
     },
     "metadata": {},
     "output_type": "display_data"
    },
    {
     "name": "stdout",
     "output_type": "stream",
     "text": [
      "prep image: 1 folder and time 19\n",
      "image made, starting nuclei ID\n",
      "nuclei gotten, make spheroid\n",
      "refine the analysis over the spheroid\n",
      "refined the spheroid properties\n",
      "\\\\atlas.pasteur.fr\\Multicell\\Gustave\\fusionGustave\\TIFF BIS\\\\Spheroids\\spheroid_1_19.json\n",
      "\\\\atlas.pasteur.fr\\Multicell\\Gustave\\fusionGustave\\TIFF BIS\\\\Spheroids\\spheroid_1_19.json\n",
      "verif. sph.\n",
      "prep image: 1 folder and time 2\n",
      "image made, starting nuclei ID\n",
      "nuclei gotten, make spheroid\n",
      "refine the analysis over the spheroid\n",
      "refined the spheroid properties\n",
      "\\\\atlas.pasteur.fr\\Multicell\\Gustave\\fusionGustave\\TIFF BIS\\\\Spheroids\\spheroid_1_2.json\n",
      "\\\\atlas.pasteur.fr\\Multicell\\Gustave\\fusionGustave\\TIFF BIS\\\\Spheroids\\spheroid_1_2.json\n",
      "verif. sph.\n",
      "prep image: 1 folder and time 22\n",
      "image made, starting nuclei ID\n",
      "nuclei gotten, make spheroid\n",
      "refine the analysis over the spheroid\n",
      "refined the spheroid properties\n",
      "\\\\atlas.pasteur.fr\\Multicell\\Gustave\\fusionGustave\\TIFF BIS\\\\Spheroids\\spheroid_1_22.json\n",
      "\\\\atlas.pasteur.fr\\Multicell\\Gustave\\fusionGustave\\TIFF BIS\\\\Spheroids\\spheroid_1_22.json\n",
      "verif. sph.\n",
      "prep image: 1 folder and time 5\n",
      "image made, starting nuclei ID\n",
      "nuclei gotten, make spheroid\n",
      "refine the analysis over the spheroid\n",
      "refined the spheroid properties\n",
      "\\\\atlas.pasteur.fr\\Multicell\\Gustave\\fusionGustave\\TIFF BIS\\\\Spheroids\\spheroid_1_5.json\n",
      "\\\\atlas.pasteur.fr\\Multicell\\Gustave\\fusionGustave\\TIFF BIS\\\\Spheroids\\spheroid_1_5.json\n",
      "verif. sph.\n",
      "prep image: 2 folder and time 19\n",
      "image made, starting nuclei ID\n",
      "nuclei gotten, make spheroid\n",
      "refine the analysis over the spheroid\n",
      "refined the spheroid properties\n",
      "\\\\atlas.pasteur.fr\\Multicell\\Gustave\\fusionGustave\\TIFF BIS\\\\Spheroids\\spheroid_2_19.json\n",
      "\\\\atlas.pasteur.fr\\Multicell\\Gustave\\fusionGustave\\TIFF BIS\\\\Spheroids\\spheroid_2_19.json\n",
      "verif. sph.\n",
      "prep image: 2 folder and time 2\n",
      "image made, starting nuclei ID\n",
      "nuclei gotten, make spheroid\n",
      "refine the analysis over the spheroid\n",
      "refined the spheroid properties\n",
      "\\\\atlas.pasteur.fr\\Multicell\\Gustave\\fusionGustave\\TIFF BIS\\\\Spheroids\\spheroid_2_2.json\n",
      "\\\\atlas.pasteur.fr\\Multicell\\Gustave\\fusionGustave\\TIFF BIS\\\\Spheroids\\spheroid_2_2.json\n",
      "verif. sph.\n",
      "prep image: 2 folder and time 22\n",
      "image made, starting nuclei ID\n",
      "nuclei gotten, make spheroid\n",
      "refine the analysis over the spheroid\n",
      "refined the spheroid properties\n",
      "\\\\atlas.pasteur.fr\\Multicell\\Gustave\\fusionGustave\\TIFF BIS\\\\Spheroids\\spheroid_2_22.json\n",
      "\\\\atlas.pasteur.fr\\Multicell\\Gustave\\fusionGustave\\TIFF BIS\\\\Spheroids\\spheroid_2_22.json\n",
      "verif. sph.\n",
      "prep image: 2 folder and time 5\n",
      "image made, starting nuclei ID\n",
      "nuclei gotten, make spheroid\n",
      "refine the analysis over the spheroid\n",
      "refined the spheroid properties\n",
      "\\\\atlas.pasteur.fr\\Multicell\\Gustave\\fusionGustave\\TIFF BIS\\\\Spheroids\\spheroid_2_5.json\n",
      "\\\\atlas.pasteur.fr\\Multicell\\Gustave\\fusionGustave\\TIFF BIS\\\\Spheroids\\spheroid_2_5.json\n",
      "verif. sph.\n",
      "prep image: 3 folder and time 19\n",
      "image made, starting nuclei ID\n",
      "nuclei gotten, make spheroid\n",
      "refine the analysis over the spheroid\n",
      "refined the spheroid properties\n",
      "\\\\atlas.pasteur.fr\\Multicell\\Gustave\\fusionGustave\\TIFF BIS\\\\Spheroids\\spheroid_3_19.json\n",
      "\\\\atlas.pasteur.fr\\Multicell\\Gustave\\fusionGustave\\TIFF BIS\\\\Spheroids\\spheroid_3_19.json\n",
      "verif. sph.\n",
      "prep image: 3 folder and time 2\n",
      "image made, starting nuclei ID\n",
      "nuclei gotten, make spheroid\n",
      "refine the analysis over the spheroid\n",
      "refined the spheroid properties\n",
      "\\\\atlas.pasteur.fr\\Multicell\\Gustave\\fusionGustave\\TIFF BIS\\\\Spheroids\\spheroid_3_2.json\n",
      "\\\\atlas.pasteur.fr\\Multicell\\Gustave\\fusionGustave\\TIFF BIS\\\\Spheroids\\spheroid_3_2.json\n",
      "verif. sph.\n",
      "prep image: 3 folder and time 22\n",
      "image made, starting nuclei ID\n",
      "nuclei gotten, make spheroid\n",
      "refine the analysis over the spheroid\n",
      "refined the spheroid properties\n",
      "\\\\atlas.pasteur.fr\\Multicell\\Gustave\\fusionGustave\\TIFF BIS\\\\Spheroids\\spheroid_3_22.json\n",
      "\\\\atlas.pasteur.fr\\Multicell\\Gustave\\fusionGustave\\TIFF BIS\\\\Spheroids\\spheroid_3_22.json\n",
      "verif. sph.\n",
      "prep image: 3 folder and time 5\n",
      "image made, starting nuclei ID\n",
      "nuclei gotten, make spheroid\n",
      "refine the analysis over the spheroid\n",
      "refined the spheroid properties\n",
      "\\\\atlas.pasteur.fr\\Multicell\\Gustave\\fusionGustave\\TIFF BIS\\\\Spheroids\\spheroid_3_5.json\n",
      "\\\\atlas.pasteur.fr\\Multicell\\Gustave\\fusionGustave\\TIFF BIS\\\\Spheroids\\spheroid_3_5.json\n",
      "verif. sph.\n",
      "prep image: 4 folder and time 19\n",
      "image made, starting nuclei ID\n",
      "nuclei gotten, make spheroid\n",
      "refine the analysis over the spheroid\n",
      "refined the spheroid properties\n",
      "\\\\atlas.pasteur.fr\\Multicell\\Gustave\\fusionGustave\\TIFF BIS\\\\Spheroids\\spheroid_4_19.json\n",
      "\\\\atlas.pasteur.fr\\Multicell\\Gustave\\fusionGustave\\TIFF BIS\\\\Spheroids\\spheroid_4_19.json\n",
      "verif. sph.\n",
      "prep image: 4 folder and time 22\n",
      "image made, starting nuclei ID\n",
      "nuclei gotten, make spheroid\n",
      "refine the analysis over the spheroid\n",
      "refined the spheroid properties\n",
      "\\\\atlas.pasteur.fr\\Multicell\\Gustave\\fusionGustave\\TIFF BIS\\\\Spheroids\\spheroid_4_22.json\n",
      "\\\\atlas.pasteur.fr\\Multicell\\Gustave\\fusionGustave\\TIFF BIS\\\\Spheroids\\spheroid_4_22.json\n",
      "verif. sph.\n",
      "prep image: 4 folder and time 5\n",
      "image made, starting nuclei ID\n",
      "nuclei gotten, make spheroid\n",
      "refine the analysis over the spheroid\n",
      "refined the spheroid properties\n",
      "\\\\atlas.pasteur.fr\\Multicell\\Gustave\\fusionGustave\\TIFF BIS\\\\Spheroids\\spheroid_4_5.json\n",
      "\\\\atlas.pasteur.fr\\Multicell\\Gustave\\fusionGustave\\TIFF BIS\\\\Spheroids\\spheroid_4_5.json\n",
      "verif. sph.\n",
      "prep image: 5 folder and time 19\n",
      "image made, starting nuclei ID\n",
      "nuclei gotten, make spheroid\n",
      "refine the analysis over the spheroid\n",
      "refined the spheroid properties\n",
      "\\\\atlas.pasteur.fr\\Multicell\\Gustave\\fusionGustave\\TIFF BIS\\\\Spheroids\\spheroid_5_19.json\n",
      "\\\\atlas.pasteur.fr\\Multicell\\Gustave\\fusionGustave\\TIFF BIS\\\\Spheroids\\spheroid_5_19.json\n",
      "verif. sph.\n",
      "prep image: 5 folder and time 22\n",
      "image made, starting nuclei ID\n",
      "nuclei gotten, make spheroid\n",
      "refine the analysis over the spheroid\n",
      "refined the spheroid properties\n",
      "\\\\atlas.pasteur.fr\\Multicell\\Gustave\\fusionGustave\\TIFF BIS\\\\Spheroids\\spheroid_5_22.json\n",
      "\\\\atlas.pasteur.fr\\Multicell\\Gustave\\fusionGustave\\TIFF BIS\\\\Spheroids\\spheroid_5_22.json\n",
      "verif. sph.\n",
      "Spheroids made\n"
     ]
    }
   ],
   "source": [
    "process._makeSpheroidClass(path, zRatio, rNoyau,\n",
    "    dCells, pxtoum, channels, minmass)"
   ]
  },
  {
   "cell_type": "code",
   "execution_count": null,
   "metadata": {},
   "outputs": [],
   "source": []
  }
 ],
 "metadata": {
  "kernelspec": {
   "display_name": "Python 3",
   "language": "python",
   "name": "python3"
  },
  "language_info": {
   "codemirror_mode": {
    "name": "ipython",
    "version": 3
   },
   "file_extension": ".py",
   "mimetype": "text/x-python",
   "name": "python",
   "nbconvert_exporter": "python",
   "pygments_lexer": "ipython3",
   "version": "3.7.0"
  }
 },
 "nbformat": 4,
 "nbformat_minor": 2
}
