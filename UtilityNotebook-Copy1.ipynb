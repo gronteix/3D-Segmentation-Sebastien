{
 "cells": [
  {
   "cell_type": "code",
   "execution_count": 1,
   "metadata": {},
   "outputs": [],
   "source": [
    "import os\n",
    "import numpy as np\n",
    "import networkx as nx\n",
    "\n",
    "import process\n",
    "import pandas"
   ]
  },
  {
   "cell_type": "markdown",
   "metadata": {},
   "source": [
    "# Chip analysis\n",
    "\n",
    "The following notebook is an analysis notebook. It has been conceived to order and analyse a dump of confocal images. All questions concerning the code should be emailed to gustave.ronteix@pasteur.fr."
   ]
  },
  {
   "cell_type": "markdown",
   "metadata": {},
   "source": [
    "These cells are to be used as fitting parameters for the cell"
   ]
  },
  {
   "cell_type": "code",
   "execution_count": 5,
   "metadata": {},
   "outputs": [],
   "source": [
    "livePosition = 2\n",
    "green = 0\n",
    "orange = 1\n",
    "\n",
    "channels = [livePosition, green, orange]\n",
    "\n",
    "zRatio = 1\n",
    "r = 7\n",
    "d = 15\n",
    "pxtoum = 2/3\n",
    "\n",
    "dX = 2*(int(r/pxtoum)//2)+1\n",
    "dY = 2*(int(r/pxtoum)//2)+1\n",
    "dZ = 2*(int(zRatio*r/pxtoum)//2)+1\n",
    "\n",
    "rNoyau = (dZ, dX, dY)\n",
    "\n",
    "dX = 2*(int(d/pxtoum)//2)+1\n",
    "dY = 2*(int(d/pxtoum)//2)+1\n",
    "dZ = 2*(int(zRatio*d/pxtoum)//2)+1\n",
    "\n",
    "dCells = (dZ, dX, dY)\n",
    "\n",
    "minmass = 5000"
   ]
  },
  {
   "cell_type": "markdown",
   "metadata": {},
   "source": [
    "### Processing\n",
    "\n",
    "The grunt functions are called from process.\n",
    "\n",
    "Attention: verify the channel order."
   ]
  },
  {
   "cell_type": "code",
   "execution_count": 3,
   "metadata": {},
   "outputs": [],
   "source": [
    "path = r'Z:\\Cold Storage\\20191106\\directmix'"
   ]
  },
  {
   "cell_type": "code",
   "execution_count": null,
   "metadata": {
    "scrolled": true
   },
   "outputs": [
    {
     "data": {
      "application/vnd.jupyter.widget-view+json": {
       "model_id": "fd6316d446f342d1ada35d0a5aea9ac3",
       "version_major": 2,
       "version_minor": 0
      },
      "text/plain": [
       "HBox(children=(IntProgress(value=0, max=21), HTML(value='')))"
      ]
     },
     "metadata": {},
     "output_type": "display_data"
    },
    {
     "name": "stdout",
     "output_type": "stream",
     "text": [
      "prep image: 01 folder and time 01\n"
     ]
    }
   ],
   "source": [
    "process._makeSpheroidClass(path, zRatio, rNoyau, dCells, pxtoum, channels, minmass)"
   ]
  },
  {
   "cell_type": "code",
   "execution_count": null,
   "metadata": {},
   "outputs": [],
   "source": []
  }
 ],
 "metadata": {
  "kernelspec": {
   "display_name": "Python 3",
   "language": "python",
   "name": "python3"
  },
  "language_info": {
   "codemirror_mode": {
    "name": "ipython",
    "version": 3
   },
   "file_extension": ".py",
   "mimetype": "text/x-python",
   "name": "python",
   "nbconvert_exporter": "python",
   "pygments_lexer": "ipython3",
   "version": "3.7.0"
  }
 },
 "nbformat": 4,
 "nbformat_minor": 2
}
