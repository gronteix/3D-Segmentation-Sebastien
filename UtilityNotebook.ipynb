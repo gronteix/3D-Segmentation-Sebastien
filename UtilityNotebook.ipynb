{
 "cells": [
  {
   "cell_type": "code",
   "execution_count": 3,
   "metadata": {},
   "outputs": [],
   "source": [
    "import os\n",
    "import numpy as np\n",
    "import networkx as nx\n",
    "\n",
    "import process\n",
    "import pandas"
   ]
  },
  {
   "cell_type": "markdown",
   "metadata": {},
   "source": [
    "# Chip analysis\n",
    "\n",
    "The following notebook is an analysis notebook. It has been conceived to order and analyse a dump of confocal images. All questions concerning the code should be emailed to gustave.ronteix@pasteur.fr."
   ]
  },
  {
   "cell_type": "markdown",
   "metadata": {},
   "source": [
    "### Processing\n",
    "\n",
    "The grunt functions are called from process.\n",
    "\n",
    "Attention: verify the channel order."
   ]
  },
  {
   "cell_type": "code",
   "execution_count": 4,
   "metadata": {},
   "outputs": [],
   "source": [
    "livePosition = 2\n",
    "green = 1\n",
    "orange = 0\n",
    "\n",
    "channels = [livePosition, green, orange]\n",
    "\n",
    "zRatio = 1/3\n",
    "rNoyau = 9\n",
    "dCells = 70\n",
    "\n",
    "path = r'\\\\atlas.pasteur.fr\\Multicell\\Gustave\\fusionGustave\\TIFF\\0'"
   ]
  },
  {
   "cell_type": "code",
   "execution_count": 5,
   "metadata": {},
   "outputs": [
    {
     "name": "stdout",
     "output_type": "stream",
     "text": [
      "Please verify that the filename order is $xy$ then $z$ then $t$\n"
     ]
    },
    {
     "data": {
      "application/vnd.jupyter.widget-view+json": {
       "model_id": "0382c982e3d8406bb3262ee9333f1e4a",
       "version_major": 2,
       "version_minor": 0
      },
      "text/plain": [
       "HBox(children=(IntProgress(value=0, max=304), HTML(value='')))"
      ]
     },
     "metadata": {},
     "output_type": "display_data"
    },
    {
     "name": "stdout",
     "output_type": "stream",
     "text": [
      "check the file name structure\n",
      "check the file name structure\n",
      "check the file name structure\n",
      "check the file name structure\n",
      "check the file name structure\n",
      "check the file name structure\n",
      "check the file name structure\n",
      "check the file name structure\n",
      "check the file name structure\n",
      "check the file name structure\n",
      "check the file name structure\n",
      "check the file name structure\n",
      "check the file name structure\n",
      "check the file name structure\n",
      "check the file name structure\n",
      "check the file name structure\n",
      "check the file name structure\n",
      "check the file name structure\n",
      "check the file name structure\n",
      "check the file name structure\n",
      "check the file name structure\n",
      "check the file name structure\n",
      "check the file name structure\n",
      "check the file name structure\n",
      "check the file name structure\n",
      "check the file name structure\n",
      "check the file name structure\n",
      "check the file name structure\n",
      "check the file name structure\n",
      "check the file name structure\n",
      "check the file name structure\n",
      "check the file name structure\n",
      "check the file name structure\n",
      "check the file name structure\n",
      "check the file name structure\n",
      "check the file name structure\n",
      "check the file name structure\n",
      "check the file name structure\n",
      "check the file name structure\n",
      "check the file name structure\n",
      "check the file name structure\n",
      "check the file name structure\n",
      "check the file name structure\n",
      "check the file name structure\n",
      "check the file name structure\n",
      "check the file name structure\n",
      "check the file name structure\n",
      "check the file name structure\n",
      "check the file name structure\n",
      "check the file name structure\n",
      "check the file name structure\n",
      "check the file name structure\n",
      "check the file name structure\n",
      "check the file name structure\n",
      "check the file name structure\n",
      "check the file name structure\n",
      "check the file name structure\n",
      "check the file name structure\n",
      "check the file name structure\n",
      "check the file name structure\n",
      "check the file name structure\n",
      "check the file name structure\n",
      "check the file name structure\n",
      "check the file name structure\n",
      "check the file name structure\n",
      "check the file name structure\n",
      "check the file name structure\n",
      "check the file name structure\n",
      "check the file name structure\n",
      "check the file name structure\n",
      "check the file name structure\n",
      "check the file name structure\n",
      "check the file name structure\n",
      "check the file name structure\n",
      "check the file name structure\n",
      "check the file name structure\n",
      "check the file name structure\n",
      "check the file name structure\n",
      "check the file name structure\n",
      "check the file name structure\n",
      "check the file name structure\n",
      "check the file name structure\n",
      "check the file name structure\n",
      "check the file name structure\n",
      "check the file name structure\n",
      "check the file name structure\n",
      "check the file name structure\n",
      "check the file name structure\n",
      "check the file name structure\n",
      "check the file name structure\n",
      "check the file name structure\n",
      "check the file name structure\n",
      "check the file name structure\n",
      "check the file name structure\n",
      "check the file name structure\n",
      "check the file name structure\n",
      "check the file name structure\n",
      "check the file name structure\n",
      "check the file name structure\n",
      "check the file name structure\n",
      "check the file name structure\n",
      "check the file name structure\n",
      "check the file name structure\n",
      "check the file name structure\n",
      "check the file name structure\n",
      "check the file name structure\n",
      "check the file name structure\n",
      "check the file name structure\n",
      "check the file name structure\n",
      "check the file name structure\n",
      "check the file name structure\n",
      "check the file name structure\n",
      "check the file name structure\n",
      "check the file name structure\n",
      "check the file name structure\n",
      "check the file name structure\n",
      "check the file name structure\n",
      "check the file name structure\n",
      "check the file name structure\n",
      "check the file name structure\n",
      "check the file name structure\n",
      "check the file name structure\n",
      "check the file name structure\n",
      "check the file name structure\n",
      "check the file name structure\n",
      "check the file name structure\n",
      "check the file name structure\n",
      "check the file name structure\n",
      "check the file name structure\n",
      "check the file name structure\n",
      "check the file name structure\n",
      "check the file name structure\n",
      "check the file name structure\n",
      "check the file name structure\n",
      "check the file name structure\n",
      "check the file name structure\n",
      "check the file name structure\n",
      "check the file name structure\n",
      "check the file name structure\n",
      "check the file name structure\n",
      "check the file name structure\n",
      "check the file name structure\n",
      "check the file name structure\n",
      "check the file name structure\n",
      "check the file name structure\n",
      "check the file name structure\n",
      "check the file name structure\n",
      "check the file name structure\n",
      "check the file name structure\n",
      "check the file name structure\n",
      "check the file name structure\n",
      "check the file name structure\n",
      "check the file name structure\n",
      "check the file name structure\n",
      "check the file name structure\n",
      "check the file name structure\n",
      "check the file name structure\n",
      "check the file name structure\n",
      "check the file name structure\n",
      "check the file name structure\n",
      "check the file name structure\n",
      "check the file name structure\n",
      "check the file name structure\n",
      "check the file name structure\n",
      "check the file name structure\n",
      "check the file name structure\n",
      "check the file name structure\n",
      "check the file name structure\n",
      "check the file name structure\n",
      "check the file name structure\n",
      "check the file name structure\n",
      "check the file name structure\n",
      "check the file name structure\n",
      "check the file name structure\n",
      "check the file name structure\n",
      "check the file name structure\n",
      "check the file name structure\n",
      "check the file name structure\n",
      "check the file name structure\n",
      "check the file name structure\n",
      "check the file name structure\n",
      "check the file name structure\n",
      "check the file name structure\n",
      "check the file name structure\n",
      "check the file name structure\n",
      "check the file name structure\n",
      "check the file name structure\n",
      "check the file name structure\n",
      "check the file name structure\n",
      "check the file name structure\n",
      "check the file name structure\n",
      "check the file name structure\n",
      "check the file name structure\n",
      "check the file name structure\n",
      "check the file name structure\n",
      "check the file name structure\n",
      "check the file name structure\n",
      "check the file name structure\n",
      "check the file name structure\n",
      "check the file name structure\n",
      "check the file name structure\n",
      "check the file name structure\n",
      "check the file name structure\n",
      "check the file name structure\n",
      "check the file name structure\n",
      "check the file name structure\n",
      "check the file name structure\n",
      "check the file name structure\n",
      "check the file name structure\n",
      "check the file name structure\n",
      "check the file name structure\n",
      "check the file name structure\n",
      "check the file name structure\n",
      "check the file name structure\n",
      "check the file name structure\n",
      "check the file name structure\n",
      "check the file name structure\n",
      "check the file name structure\n",
      "check the file name structure\n",
      "check the file name structure\n",
      "check the file name structure\n",
      "check the file name structure\n",
      "check the file name structure\n",
      "check the file name structure\n",
      "check the file name structure\n",
      "check the file name structure\n",
      "check the file name structure\n",
      "check the file name structure\n",
      "check the file name structure\n",
      "check the file name structure\n",
      "check the file name structure\n",
      "check the file name structure\n",
      "check the file name structure\n",
      "check the file name structure\n",
      "check the file name structure\n",
      "check the file name structure\n",
      "check the file name structure\n",
      "check the file name structure\n",
      "check the file name structure\n",
      "check the file name structure\n",
      "check the file name structure\n",
      "check the file name structure\n",
      "check the file name structure\n",
      "check the file name structure\n",
      "check the file name structure\n",
      "check the file name structure\n",
      "check the file name structure\n",
      "check the file name structure\n",
      "check the file name structure\n",
      "check the file name structure\n",
      "check the file name structure\n",
      "check the file name structure\n",
      "check the file name structure\n",
      "check the file name structure\n",
      "check the file name structure\n",
      "check the file name structure\n",
      "check the file name structure\n",
      "check the file name structure\n",
      "check the file name structure\n",
      "check the file name structure\n",
      "check the file name structure\n",
      "check the file name structure\n",
      "check the file name structure\n",
      "check the file name structure\n",
      "check the file name structure\n",
      "check the file name structure\n",
      "check the file name structure\n",
      "check the file name structure\n",
      "check the file name structure\n",
      "check the file name structure\n",
      "check the file name structure\n",
      "check the file name structure\n",
      "check the file name structure\n"
     ]
    },
    {
     "name": "stdout",
     "output_type": "stream",
     "text": [
      "check the file name structure\n",
      "check the file name structure\n",
      "check the file name structure\n",
      "check the file name structure\n",
      "check the file name structure\n",
      "check the file name structure\n",
      "check the file name structure\n",
      "check the file name structure\n",
      "check the file name structure\n",
      "check the file name structure\n",
      "check the file name structure\n",
      "check the file name structure\n",
      "check the file name structure\n",
      "check the file name structure\n",
      "check the file name structure\n",
      "check the file name structure\n",
      "check the file name structure\n",
      "check the file name structure\n",
      "check the file name structure\n",
      "check the file name structure\n",
      "check the file name structure\n",
      "check the file name structure\n",
      "check the file name structure\n",
      "check the file name structure\n",
      "check the file name structure\n",
      "check the file name structure\n",
      "check the file name structure\n",
      "check the file name structure\n",
      "check the file name structure\n",
      "check the file name structure\n",
      "check the file name structure\n",
      "\n"
     ]
    }
   ],
   "source": [
    "process._sortFiles(path)"
   ]
  },
  {
   "cell_type": "code",
   "execution_count": 3,
   "metadata": {
    "scrolled": true
   },
   "outputs": [
    {
     "data": {
      "application/vnd.jupyter.widget-view+json": {
       "model_id": "4f83b1fe37004958b0f7d94786ea9f81",
       "version_major": 2,
       "version_minor": 0
      },
      "text/plain": [
       "HBox(children=(IntProgress(value=0, max=3), HTML(value='')))"
      ]
     },
     "metadata": {},
     "output_type": "display_data"
    },
    {
     "name": "stdout",
     "output_type": "stream",
     "text": [
      "prep image: 00 folder and time 00\n",
      "9\n",
      "image made, starting nuclei ID\n",
      "(161, 1022, 1024)\n"
     ]
    },
    {
     "name": "stderr",
     "output_type": "stream",
     "text": [
      "C:\\Users\\gronteix\\AppData\\Local\\Continuum\\anaconda3\\lib\\site-packages\\mkl_fft\\_numpy_fft.py:1044: FutureWarning: Using a non-tuple sequence for multidimensional indexing is deprecated; use `arr[tuple(seq)]` instead of `arr[seq]`. In the future this will be interpreted as an array index, `arr[np.array(seq)]`, which will result either in an error or a different result.\n",
      "  output = mkl_fft.rfftn_numpy(a, s, axes)\n"
     ]
    },
    {
     "name": "stdout",
     "output_type": "stream",
     "text": [
      "Convolution Time:  33.735670600000006\n",
      "Corrdinates ID Time:  6.599431999999993\n",
      "64 cells ID\n",
      "nuclei gotten, make spheroid\n",
      "refine the analysis over the spheroid\n",
      "X:\\Gustave\\Experiments\\Nuclei Segmentation\\04072019\\Seb\\tif\\\\Spheroids\\spheroid_00_00.json\n",
      "prep image: 01 folder and time 00\n",
      "9\n",
      "image made, starting nuclei ID\n",
      "(161, 1022, 1024)\n",
      "Convolution Time:  35.506738299999995\n",
      "Corrdinates ID Time:  7.467863899999998\n",
      "42 cells ID\n",
      "nuclei gotten, make spheroid\n",
      "refine the analysis over the spheroid\n",
      "X:\\Gustave\\Experiments\\Nuclei Segmentation\\04072019\\Seb\\tif\\\\Spheroids\\spheroid_01_00.json\n",
      "\n",
      "Spheroids made\n"
     ]
    }
   ],
   "source": [
    "process._makeSpheroidClass(path, zRatio, rNoyau, dCells, channels)"
   ]
  },
  {
   "cell_type": "markdown",
   "metadata": {},
   "source": [
    "Remarquons que la segmentation du spheroide dans un ou l'autre des types de cellules depend ici du classificateur naif que nous avons cree. Il repose sur un fit lineaire des points en fonction de leur couleur. On trouve que ce dernier doit avoir comme pente:\n",
    "\n",
    "$a = \\frac{<xy>}{<x^2>}$\n",
    "\n",
    "Le signe par rapport a celui-ci est donne par:\n",
    "\n",
    "$sign = y - a*x$\n",
    "\n",
    "Ce qui nous donne par consequence un moyen rapide pour affecter un genre a chaque cellule."
   ]
  },
  {
   "cell_type": "code",
   "execution_count": 4,
   "metadata": {},
   "outputs": [],
   "source": [
    "IntensityPath = r'X:\\Gustave\\Experiments\\Nuclei Segmentation\\04072019\\Seb\\tif\\Spheroids\\\\'"
   ]
  },
  {
   "cell_type": "code",
   "execution_count": 5,
   "metadata": {},
   "outputs": [],
   "source": [
    "df1 = pandas.read_csv(IntensityPath + 'intensityFrame_00_00.csv')\n",
    "df2 = pandas.read_csv(IntensityPath + 'intensityFrame_01_00.csv')"
   ]
  },
  {
   "cell_type": "code",
   "execution_count": 10,
   "metadata": {},
   "outputs": [
    {
     "data": {
      "text/plain": [
       "[<matplotlib.lines.Line2D at 0x25180706a58>]"
      ]
     },
     "execution_count": 10,
     "metadata": {},
     "output_type": "execute_result"
    },
    {
     "data": {
      "image/png": "[encoded data removed]",
      "text/plain": [
       "<Figure size 432x288 with 1 Axes>"
      ]
     },
     "metadata": {
      "needs_background": "light"
     },
     "output_type": "display_data"
    }
   ],
   "source": [
    "import matplotlib.pyplot as plt\n",
    "\n",
    "\n",
    "ax1 = df1.plot.scatter(x='Orange',y='Green', c= 'r')\n",
    "df2.plot.scatter(x='Orange',y='Green', ax = ax1)\n",
    "plt.plot(df['Orange'], a*df['Orange'], 'g-')"
   ]
  },
  {
   "cell_type": "code",
   "execution_count": 7,
   "metadata": {},
   "outputs": [],
   "source": [
    "df = df1.append(df2)"
   ]
  },
  {
   "cell_type": "code",
   "execution_count": 8,
   "metadata": {},
   "outputs": [],
   "source": [
    "a = df['Orange'].dot(df['Green'])/df['Orange'].dot(df['Orange'])"
   ]
  },
  {
   "cell_type": "code",
   "execution_count": 9,
   "metadata": {},
   "outputs": [
    {
     "data": {
      "text/plain": [
       "37"
      ]
     },
     "execution_count": 9,
     "metadata": {},
     "output_type": "execute_result"
    }
   ],
   "source": [
    "len(df.loc[df['Green']-a*df['Orange']<0])"
   ]
  },
  {
   "cell_type": "markdown",
   "metadata": {},
   "source": [
    "### Refined analysis\n",
    "\n",
    "We use the refined metrics of networkx to add centrality, degree and other measures to the death/survival rates of the spheroid. The following process follows:\n",
    "\n",
    " - open json file\n",
    " - modify the spheroid properties\n",
    " - save global properties in soheroid file\n",
    " - save file"
   ]
  },
  {
   "cell_type": "code",
   "execution_count": null,
   "metadata": {},
   "outputs": [],
   "source": [
    "def _refineSph(dic):\n",
    "    \n",
    "    G = _makeG(dic)\n",
    "    \n",
    "    A = networkx.betweenness_centrality(G) # betweeness centrality\n",
    "    B = networkx.clustering(G)\n",
    "    C = networkx.degree(G)\n",
    "    \n",
    "    for v in G:\n",
    "        \n",
    "        dic['cells'][v]['degree'] = C[v]\n",
    "        dic['cells'][v]['clustering'] = B[v]\n",
    "        dic['cells'][v]['centrality'] = A[v]\n",
    "        \n",
    "    dic['N'] = len(dic['cells'])\n",
    "    dic['assortativity'] = nx.degree_assortativity_coefficient(G)\n",
    "    dic['average degree'] = np.asarray([float(C[v]) for v in G]).mean()\n",
    "    \n",
    "    return dic"
   ]
  },
  {
   "cell_type": "code",
   "execution_count": null,
   "metadata": {},
   "outputs": [],
   "source": [
    "_refineSph(_Sph)\n",
    "\n",
    "process._saveSpheroid(_Sph.Spheroid, path + '\\spheroid_' + spheroidFolder + r'_' +  timeFolder + '.json')"
   ]
  }
 ],
 "metadata": {
  "kernelspec": {
   "display_name": "Python 3",
   "language": "python",
   "name": "python3"
  },
  "language_info": {
   "codemirror_mode": {
    "name": "ipython",
    "version": 3
   },
   "file_extension": ".py",
   "mimetype": "text/x-python",
   "name": "python",
   "nbconvert_exporter": "python",
   "pygments_lexer": "ipython3",
   "version": "3.7.0"
  }
 },
 "nbformat": 4,
 "nbformat_minor": 2
}
