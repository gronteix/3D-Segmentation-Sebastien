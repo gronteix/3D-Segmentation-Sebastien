{
 "cells": [
  {
   "cell_type": "code",
   "execution_count": null,
   "metadata": {},
   "outputs": [],
   "source": [
    "import os\n",
    "import numpy as np\n",
    "import networkx as nx\n",
    "from scipy.ndimage import gaussian_filter\n",
    "from skimage import exposure\n",
    "\n",
    "import process\n",
    "import pandas"
   ]
  },
  {
   "cell_type": "markdown",
   "metadata": {},
   "source": [
    "# Chip analysis\n",
    "\n",
    "The following notebook is an analysis notebook. It has been conceived to order and analyse a dump of confocal images. All questions concerning the code should be emailed to gustave.ronteix@pasteur.fr."
   ]
  },
  {
   "cell_type": "markdown",
   "metadata": {},
   "source": [
    "These cells are to be used as fitting parameters for the cell"
   ]
  },
  {
   "cell_type": "code",
   "execution_count": null,
   "metadata": {},
   "outputs": [],
   "source": [
    "path = r'\\\\atlas.pasteur.fr\\Multicell\\Gustave\\20191106\\directmix\\03\\08'\n",
    "\n",
    "livePosition = 2\n",
    "green = 0\n",
    "orange = 1\n",
    "\n",
    "channels = [livePosition, green, orange]\n",
    "\n",
    "zRatio = 0.75\n",
    "r = 6\n",
    "d = 20\n",
    "pxtoum = 2/3\n",
    "\n",
    "dX = 2*(int(r/pxtoum)//2)+1\n",
    "dY = 2*(int(r/pxtoum)//2)+1\n",
    "dZ = 2*(int(zRatio*r/pxtoum)//2)+1\n",
    "\n",
    "rNoyau = (dZ, dX, dY)\n",
    "\n",
    "dX = 2*(int(d/pxtoum)//2)+1\n",
    "dY = 2*(int(d/pxtoum)//2)+1\n",
    "dZ = 2*(int(zRatio*d/pxtoum)//2)+1\n",
    "\n",
    "dCells = (dZ, dX, dY)\n",
    "\n",
    "minmass = 2000"
   ]
  },
  {
   "cell_type": "code",
   "execution_count": null,
   "metadata": {},
   "outputs": [],
   "source": [
    "import spheroid\n",
    "\n",
    "Sph = spheroid.spheroid(path, '1', '1', zRatio, r, d,pxtoum, minmass)\n",
    "    # Initialize spheroid\n",
    "\n",
    "if len(channels) == 3: # Improve dependancy on channel number...\n",
    "\n",
    "    Sph._loadImage(channels[0], 'NucImage') # Load live cells\n",
    "    Sph._loadImage(channels[1], 'GreenImage') # Load green cells\n",
    "    Sph._loadImage(channels[2], 'OrangeImage') # Load orange cells\n",
    "\n",
    "else: print(\"Wrong number of color channels\")\n",
    "\n",
    "print('image made, starting nuclei ID')"
   ]
  },
  {
   "cell_type": "code",
   "execution_count": null,
   "metadata": {},
   "outputs": [],
   "source": [
    "from trackpy import preprocessing\n",
    "import trackpy\n",
    "\n",
    "df = trackpy.locate(Sph.NucImage[:,:,:], rNoyau, minmass=None, maxsize=None, separation=None, noise_size=1, \n",
    "                    smoothing_size=None, threshold=None, invert=False, percentile=64, topn=400, \n",
    "                    preprocess=True, max_iterations=10, filter_before=None, filter_after=None, characterize=True, \n",
    "                    engine='numba')"
   ]
  },
  {
   "cell_type": "code",
   "execution_count": null,
   "metadata": {
    "scrolled": false
   },
   "outputs": [],
   "source": [
    "import matplotlib.pyplot as plt\n",
    "from skimage import exposure\n",
    "from scipy.ndimage import gaussian_filter\n",
    "\n",
    "fd = df.loc[df['mass'] > 200000]\n",
    "\n",
    "fd =fd.loc[((fd['x'] -fd['x'].mean())**2 < 4*fd['x'].std()**2) &\n",
    "          ((fd['y'] -fd['y'].mean())**2 < 4*fd['y'].std()**2)]\n",
    "\n",
    "img_eq = exposure.equalize_hist(Sph.NucImage[25,850:1350,650:1250])\n",
    "im =  gaussian_filter(img_eq, sigma=2)\n",
    "\n",
    "ax, fig = plt.subplots(figsize = (16,16))\n",
    "plt.imshow(im)\n",
    "plt.scatter(fd['x']-650, fd['y']-850, c = 'r', s = 5)"
   ]
  },
  {
   "cell_type": "markdown",
   "metadata": {},
   "source": [
    "### Processing\n",
    "\n",
    "The grunt functions are called from process.\n",
    "\n",
    "Attention: verify the channel order."
   ]
  },
  {
   "cell_type": "code",
   "execution_count": 9,
   "metadata": {},
   "outputs": [],
   "source": [
    "path = r'\\\\atlas.pasteur.fr\\Multicell\\Gustave\\20191106\\directmix'\n",
    "spheroidFolder = '1'\n",
    "timeFolder = '2'"
   ]
  },
  {
   "cell_type": "code",
   "execution_count": null,
   "metadata": {},
   "outputs": [],
   "source": [
    "process._sortFiles(path)"
   ]
  },
  {
   "cell_type": "code",
   "execution_count": 12,
   "metadata": {
    "scrolled": true
   },
   "outputs": [
    {
     "data": {
      "application/vnd.jupyter.widget-view+json": {
       "model_id": "80e4cdbe68c149129693203c222c4e34",
       "version_major": 2,
       "version_minor": 0
      },
      "text/plain": [
       "HBox(children=(IntProgress(value=0, max=21), HTML(value='')))"
      ]
     },
     "metadata": {},
     "output_type": "display_data"
    },
    {
     "name": "stdout",
     "output_type": "stream",
     "text": [
      "prep image: 01 folder and time 01\n",
      "image made, starting nuclei ID\n",
      "nuclei gotten, make spheroid\n",
      "refine the analysis over the spheroid\n",
      "refined the spheroid properties\n",
      "\\\\atlas.pasteur.fr\\Multicell\\Gustave\\20191106\\directmix\\\\Spheroids\\spheroid_01_01.json\n",
      "\\\\atlas.pasteur.fr\\Multicell\\Gustave\\20191106\\directmix\\\\Spheroids\\spheroid_01_01.json\n",
      "verif. sph.\n",
      "prep image: 01 folder and time 02\n",
      "image made, starting nuclei ID\n",
      "nuclei gotten, make spheroid\n",
      "refine the analysis over the spheroid\n",
      "refined the spheroid properties\n",
      "\\\\atlas.pasteur.fr\\Multicell\\Gustave\\20191106\\directmix\\\\Spheroids\\spheroid_01_02.json\n",
      "\\\\atlas.pasteur.fr\\Multicell\\Gustave\\20191106\\directmix\\\\Spheroids\\spheroid_01_02.json\n",
      "verif. sph.\n",
      "prep image: 01 folder and time 03\n",
      "image made, starting nuclei ID\n",
      "nuclei gotten, make spheroid\n",
      "refine the analysis over the spheroid\n",
      "refined the spheroid properties\n",
      "\\\\atlas.pasteur.fr\\Multicell\\Gustave\\20191106\\directmix\\\\Spheroids\\spheroid_01_03.json\n",
      "\\\\atlas.pasteur.fr\\Multicell\\Gustave\\20191106\\directmix\\\\Spheroids\\spheroid_01_03.json\n",
      "verif. sph.\n",
      "prep image: 01 folder and time 04\n",
      "image made, starting nuclei ID\n",
      "nuclei gotten, make spheroid\n",
      "refine the analysis over the spheroid\n",
      "refined the spheroid properties\n",
      "\\\\atlas.pasteur.fr\\Multicell\\Gustave\\20191106\\directmix\\\\Spheroids\\spheroid_01_04.json\n",
      "\\\\atlas.pasteur.fr\\Multicell\\Gustave\\20191106\\directmix\\\\Spheroids\\spheroid_01_04.json\n",
      "verif. sph.\n",
      "prep image: 01 folder and time 05\n",
      "image made, starting nuclei ID\n",
      "nuclei gotten, make spheroid\n",
      "refine the analysis over the spheroid\n",
      "refined the spheroid properties\n",
      "\\\\atlas.pasteur.fr\\Multicell\\Gustave\\20191106\\directmix\\\\Spheroids\\spheroid_01_05.json\n",
      "\\\\atlas.pasteur.fr\\Multicell\\Gustave\\20191106\\directmix\\\\Spheroids\\spheroid_01_05.json\n",
      "verif. sph.\n",
      "prep image: 01 folder and time 06\n",
      "image made, starting nuclei ID\n"
     ]
    },
    {
     "ename": "MemoryError",
     "evalue": "",
     "output_type": "error",
     "traceback": [
      "\u001b[1;31m---------------------------------------------------------------------------\u001b[0m",
      "\u001b[1;31mMemoryError\u001b[0m                               Traceback (most recent call last)",
      "\u001b[1;32m<ipython-input-12-a345ee91417a>\u001b[0m in \u001b[0;36m<module>\u001b[1;34m\u001b[0m\n\u001b[1;32m----> 1\u001b[1;33m \u001b[0mprocess\u001b[0m\u001b[1;33m.\u001b[0m\u001b[0m_makeSpheroidClass\u001b[0m\u001b[1;33m(\u001b[0m\u001b[0mpath\u001b[0m\u001b[1;33m,\u001b[0m \u001b[0mzRatio\u001b[0m\u001b[1;33m,\u001b[0m \u001b[0mrNoyau\u001b[0m\u001b[1;33m,\u001b[0m \u001b[0mdCells\u001b[0m\u001b[1;33m,\u001b[0m \u001b[0mpxtoum\u001b[0m\u001b[1;33m,\u001b[0m \u001b[0mchannels\u001b[0m\u001b[1;33m,\u001b[0m \u001b[0mminmass\u001b[0m\u001b[1;33m)\u001b[0m\u001b[1;33m\u001b[0m\u001b[0m\n\u001b[0m",
      "\u001b[1;32m~\\Documents\\Python Scripts\\3D-segmentation-Seb\\process.py\u001b[0m in \u001b[0;36m_makeSpheroidClass\u001b[1;34m(path, zRatio, rNoyau, dCells, pxtoum, channels, minmass)\u001b[0m\n\u001b[0;32m    140\u001b[0m \u001b[1;33m\u001b[0m\u001b[0m\n\u001b[0;32m    141\u001b[0m                     _makeSingleSpheroidClass(path, spheroidFolder,\n\u001b[1;32m--> 142\u001b[1;33m                         timeFolder, zRatio, rNoyau, dCells, pxtoum, channels, minmass)\n\u001b[0m\u001b[0;32m    143\u001b[0m \u001b[1;33m\u001b[0m\u001b[0m\n\u001b[0;32m    144\u001b[0m     \u001b[1;32mreturn\u001b[0m \u001b[0mprint\u001b[0m\u001b[1;33m(\u001b[0m\u001b[1;34m'Spheroids made'\u001b[0m\u001b[1;33m)\u001b[0m\u001b[1;33m\u001b[0m\u001b[0m\n",
      "\u001b[1;32m~\\Documents\\Python Scripts\\3D-segmentation-Seb\\process.py\u001b[0m in \u001b[0;36m_makeSingleSpheroidClass\u001b[1;34m(path, spheroidFolder, timeFolder, zRatio, rNoyau, dCells, pxtoum, channels, minmass)\u001b[0m\n\u001b[0;32m     80\u001b[0m     \u001b[0mprint\u001b[0m\u001b[1;33m(\u001b[0m\u001b[1;34m'image made, starting nuclei ID'\u001b[0m\u001b[1;33m)\u001b[0m\u001b[1;33m\u001b[0m\u001b[0m\n\u001b[0;32m     81\u001b[0m \u001b[1;33m\u001b[0m\u001b[0m\n\u001b[1;32m---> 82\u001b[1;33m     \u001b[0mSph\u001b[0m\u001b[1;33m.\u001b[0m\u001b[0m_getNuclei\u001b[0m\u001b[1;33m(\u001b[0m\u001b[1;33m)\u001b[0m \u001b[1;31m# identification of nuclei positions\u001b[0m\u001b[1;33m\u001b[0m\u001b[0m\n\u001b[0m\u001b[0;32m     83\u001b[0m \u001b[1;33m\u001b[0m\u001b[0m\n\u001b[0;32m     84\u001b[0m     \u001b[0mprint\u001b[0m\u001b[1;33m(\u001b[0m\u001b[1;34m'nuclei gotten, make spheroid'\u001b[0m\u001b[1;33m)\u001b[0m\u001b[1;33m\u001b[0m\u001b[0m\n",
      "\u001b[1;32m~\\Documents\\Python Scripts\\3D-segmentation-Seb\\spheroid.py\u001b[0m in \u001b[0;36m_getNuclei\u001b[1;34m(self)\u001b[0m\n\u001b[0;32m    103\u001b[0m                     \u001b[0msmoothing_size\u001b[0m\u001b[1;33m=\u001b[0m\u001b[1;32mNone\u001b[0m\u001b[1;33m,\u001b[0m \u001b[0mthreshold\u001b[0m\u001b[1;33m=\u001b[0m\u001b[1;32mNone\u001b[0m\u001b[1;33m,\u001b[0m \u001b[0minvert\u001b[0m\u001b[1;33m=\u001b[0m\u001b[1;32mFalse\u001b[0m\u001b[1;33m,\u001b[0m \u001b[0mpercentile\u001b[0m\u001b[1;33m=\u001b[0m\u001b[1;36m64\u001b[0m\u001b[1;33m,\u001b[0m \u001b[0mtopn\u001b[0m\u001b[1;33m=\u001b[0m\u001b[0mself\u001b[0m\u001b[1;33m.\u001b[0m\u001b[0mCellNumber\u001b[0m\u001b[1;33m,\u001b[0m\u001b[1;33m\u001b[0m\u001b[0m\n\u001b[0;32m    104\u001b[0m                     \u001b[0mpreprocess\u001b[0m\u001b[1;33m=\u001b[0m\u001b[1;32mTrue\u001b[0m\u001b[1;33m,\u001b[0m \u001b[0mmax_iterations\u001b[0m\u001b[1;33m=\u001b[0m\u001b[1;36m10\u001b[0m\u001b[1;33m,\u001b[0m \u001b[0mfilter_before\u001b[0m\u001b[1;33m=\u001b[0m\u001b[1;32mNone\u001b[0m\u001b[1;33m,\u001b[0m \u001b[0mfilter_after\u001b[0m\u001b[1;33m=\u001b[0m\u001b[1;32mNone\u001b[0m\u001b[1;33m,\u001b[0m \u001b[0mcharacterize\u001b[0m\u001b[1;33m=\u001b[0m\u001b[1;32mTrue\u001b[0m\u001b[1;33m,\u001b[0m\u001b[1;33m\u001b[0m\u001b[0m\n\u001b[1;32m--> 105\u001b[1;33m                     engine='numba')\n\u001b[0m\u001b[0;32m    106\u001b[0m \u001b[1;33m\u001b[0m\u001b[0m\n\u001b[0;32m    107\u001b[0m         \u001b[0mdf\u001b[0m \u001b[1;33m=\u001b[0m \u001b[0mdf\u001b[0m\u001b[1;33m.\u001b[0m\u001b[0mloc\u001b[0m\u001b[1;33m[\u001b[0m\u001b[0mdf\u001b[0m\u001b[1;33m[\u001b[0m\u001b[1;34m'mass'\u001b[0m\u001b[1;33m]\u001b[0m \u001b[1;33m>\u001b[0m \u001b[0mself\u001b[0m\u001b[1;33m.\u001b[0m\u001b[0mMinMass\u001b[0m\u001b[1;33m]\u001b[0m\u001b[1;33m\u001b[0m\u001b[0m\n",
      "\u001b[1;32m~\\AppData\\Local\\Continuum\\anaconda3\\lib\\site-packages\\trackpy\\feature.py\u001b[0m in \u001b[0;36mlocate\u001b[1;34m(raw_image, diameter, minmass, maxsize, separation, noise_size, smoothing_size, threshold, invert, percentile, topn, preprocess, max_iterations, filter_before, filter_after, characterize, engine)\u001b[0m\n\u001b[0;32m    371\u001b[0m         \u001b[0mdtype\u001b[0m \u001b[1;33m=\u001b[0m \u001b[0mraw_image\u001b[0m\u001b[1;33m.\u001b[0m\u001b[0mdtype\u001b[0m\u001b[1;33m\u001b[0m\u001b[0m\n\u001b[0;32m    372\u001b[0m     \u001b[1;31m# Normalize_to_int does nothing if image is already of integer type.\u001b[0m\u001b[1;33m\u001b[0m\u001b[1;33m\u001b[0m\u001b[0m\n\u001b[1;32m--> 373\u001b[1;33m     \u001b[0mscale_factor\u001b[0m\u001b[1;33m,\u001b[0m \u001b[0mimage\u001b[0m \u001b[1;33m=\u001b[0m \u001b[0mconvert_to_int\u001b[0m\u001b[1;33m(\u001b[0m\u001b[0mimage\u001b[0m\u001b[1;33m,\u001b[0m \u001b[0mdtype\u001b[0m\u001b[1;33m)\u001b[0m\u001b[1;33m\u001b[0m\u001b[0m\n\u001b[0m\u001b[0;32m    374\u001b[0m \u001b[1;33m\u001b[0m\u001b[0m\n\u001b[0;32m    375\u001b[0m     \u001b[0mpos_columns\u001b[0m \u001b[1;33m=\u001b[0m \u001b[0mdefault_pos_columns\u001b[0m\u001b[1;33m(\u001b[0m\u001b[0mimage\u001b[0m\u001b[1;33m.\u001b[0m\u001b[0mndim\u001b[0m\u001b[1;33m)\u001b[0m\u001b[1;33m\u001b[0m\u001b[0m\n",
      "\u001b[1;32m~\\AppData\\Local\\Continuum\\anaconda3\\lib\\site-packages\\trackpy\\preprocessing.py\u001b[0m in \u001b[0;36mconvert_to_int\u001b[1;34m(image, dtype)\u001b[0m\n\u001b[0;32m    204\u001b[0m     \u001b[1;32melse\u001b[0m\u001b[1;33m:\u001b[0m\u001b[1;33m\u001b[0m\u001b[0m\n\u001b[0;32m    205\u001b[0m         \u001b[0mscale_factor\u001b[0m \u001b[1;33m=\u001b[0m \u001b[0mmax_value\u001b[0m \u001b[1;33m/\u001b[0m \u001b[0mimage_max\u001b[0m\u001b[1;33m\u001b[0m\u001b[0m\n\u001b[1;32m--> 206\u001b[1;33m     \u001b[1;32mreturn\u001b[0m \u001b[0mscale_factor\u001b[0m\u001b[1;33m,\u001b[0m \u001b[1;33m(\u001b[0m\u001b[0mscale_factor\u001b[0m \u001b[1;33m*\u001b[0m \u001b[0mimage\u001b[0m\u001b[1;33m.\u001b[0m\u001b[0mclip\u001b[0m\u001b[1;33m(\u001b[0m\u001b[0mmin\u001b[0m\u001b[1;33m=\u001b[0m\u001b[1;36m0.\u001b[0m\u001b[1;33m)\u001b[0m\u001b[1;33m)\u001b[0m\u001b[1;33m.\u001b[0m\u001b[0mastype\u001b[0m\u001b[1;33m(\u001b[0m\u001b[0mdtype\u001b[0m\u001b[1;33m)\u001b[0m\u001b[1;33m\u001b[0m\u001b[0m\n\u001b[0m\u001b[0;32m    207\u001b[0m \u001b[1;33m\u001b[0m\u001b[0m\n\u001b[0;32m    208\u001b[0m \u001b[1;33m\u001b[0m\u001b[0m\n",
      "\u001b[1;31mMemoryError\u001b[0m: "
     ]
    }
   ],
   "source": [
    "process._makeSpheroidClass(path, zRatio, rNoyau, dCells, pxtoum, channels, minmass)"
   ]
  },
  {
   "cell_type": "markdown",
   "metadata": {},
   "source": [
    "Remarquons que la segmentation du spheroide dans un ou l'autre des types de cellules depend ici du classificateur naif que nous avons cree. Il repose sur un fit lineaire des points en fonction de leur couleur. On trouve que ce dernier doit avoir comme pente:\n",
    "\n",
    "$a = \\frac{<xy>}{<x^2>}$\n",
    "\n",
    "Le signe par rapport a celui-ci est donne par:\n",
    "\n",
    "$sign = y - a*x$\n",
    "\n",
    "Ce qui nous donne par consequence un moyen rapide pour affecter un genre a chaque cellule."
   ]
  },
  {
   "cell_type": "code",
   "execution_count": null,
   "metadata": {},
   "outputs": [],
   "source": [
    "IntensityPath = r'\\\\atlas.pasteur.fr\\Multicell\\Gustave\\fusionGustave\\TIFF BIS\\Spheroids\\\\'"
   ]
  },
  {
   "cell_type": "code",
   "execution_count": null,
   "metadata": {},
   "outputs": [],
   "source": [
    "df1 = pandas.read_csv(IntensityPath + 'intensityFrame_5_19.csv')"
   ]
  },
  {
   "cell_type": "code",
   "execution_count": null,
   "metadata": {},
   "outputs": [],
   "source": [
    "from sklearn.preprocessing import StandardScaler\n",
    "\n",
    "X = df1[['Green', 'Orange']]\n",
    "\n",
    "scaler = StandardScaler()\n",
    "scaler.fit(X)\n",
    "X = scaler.transform(X)\n",
    "\n",
    "df1['Green Corr'] = X[:,0]\n",
    "df1['Orange Corr'] = X[:,1]"
   ]
  },
  {
   "cell_type": "code",
   "execution_count": null,
   "metadata": {},
   "outputs": [],
   "source": [
    "import matplotlib.pyplot as plt\n",
    "\n",
    "ax1 = df1.plot.scatter(x='Orange Corr',y='Green Corr', c= 'r')"
   ]
  },
  {
   "cell_type": "code",
   "execution_count": null,
   "metadata": {},
   "outputs": [],
   "source": [
    "from sklearn.cluster import KMeans\n",
    "import matplotlib.pyplot as plt\n",
    "import numpy as np\n",
    "\n",
    "gmm =  mixture.GaussianMixture(n_components=2).fit(X)\n",
    "labels = gmm.predict(X)"
   ]
  },
  {
   "cell_type": "code",
   "execution_count": null,
   "metadata": {},
   "outputs": [],
   "source": [
    "from sklearn import mixture\n",
    "gmm =  mixture.GaussianMixture(n_components=2).fit(X)\n",
    "labels = gmm.predict(X)\n",
    "fig, ax = plt.subplots(1, figsize=(7,7))\n",
    "ax.scatter(df1['Orange Corr'],df1['Green Corr'],\n",
    "          c=labels.astype(np.float), edgecolor=\"k\", s=50)\n",
    "ax.set_xlabel(\"Corrected Green\")\n",
    "ax.set_ylabel(\"Corrected Orange\")\n",
    "plt.title(\"Gaussian Mixture\", fontsize=14)"
   ]
  },
  {
   "cell_type": "markdown",
   "metadata": {},
   "source": [
    "## Checking the spheroid analysis\n",
    "\n",
    " - Get spheroid Data\n",
    " - Plot points\n",
    " - Plot segments\n",
    " - plot original image"
   ]
  },
  {
   "cell_type": "code",
   "execution_count": null,
   "metadata": {},
   "outputs": [],
   "source": [
    "X = df1[['Green']]\n",
    "scaler = StandardScaler()\n",
    "scaler.fit(X)\n",
    "X = scaler.transform(X)\n",
    "km = KMeans(n_clusters=2)\n",
    "km.fit(X)\n",
    "km.predict(X)\n",
    "labels = km.labels_\n",
    "gmm =  mixture.GaussianMixture(n_components=2).fit(X)\n",
    "labels = gmm.predict(X)"
   ]
  },
  {
   "cell_type": "code",
   "execution_count": null,
   "metadata": {},
   "outputs": [],
   "source": [
    "fig, ax = plt.subplots(1, figsize=(7,7))\n",
    "ax.scatter(df1['Orange Corr'],df1['Green Corr'],\n",
    "          c=labels.astype(np.float), edgecolor=\"k\", s=50)\n",
    "ax.set_xlabel(\"Corrected Green\")\n",
    "ax.set_ylabel(\"Corrected Orange\")\n",
    "plt.title(\"Gaussian Mixture\", fontsize=14)"
   ]
  },
  {
   "cell_type": "code",
   "execution_count": null,
   "metadata": {},
   "outputs": [],
   "source": [
    "IntensityPath = r'\\\\atlas.pasteur.fr\\Multicell\\Gustave\\fusionGustave\\TIFF BIS\\Spheroids\\\\'\n",
    "\n",
    "import json\n",
    "\n",
    "with open(IntensityPath + 'spheroid_3_19.json') as json_file:\n",
    "    data = json.load(json_file)"
   ]
  },
  {
   "cell_type": "code",
   "execution_count": null,
   "metadata": {},
   "outputs": [],
   "source": [
    "FigureFrame = pandas.DataFrame()\n",
    "j = 0\n",
    "\n",
    "for cell in data['cells'].keys():\n",
    "    \n",
    "    loc = data['cells'][cell]\n",
    "    \n",
    "    FigureFrame.loc[j, 'x'] = loc['x']\n",
    "    FigureFrame.loc[j, 'y'] = loc['y']\n",
    "    FigureFrame.loc[j, 'color'] = loc['state GMM']\n",
    "    \n",
    "    j += 1"
   ]
  },
  {
   "cell_type": "code",
   "execution_count": null,
   "metadata": {},
   "outputs": [],
   "source": [
    "FigureFrame['x'] = pandas.to_numeric(FigureFrame['x'])\n",
    "FigureFrame['y'] = pandas.to_numeric(FigureFrame['y'])\n",
    "FigureFrame['label'] = (FigureFrame['color'] == 'Green').astype('int')"
   ]
  },
  {
   "cell_type": "code",
   "execution_count": null,
   "metadata": {},
   "outputs": [],
   "source": [
    "plt.imshow(gaussian_filter(Sph.GreenImage[:,250:1750,750:2000],sigma=Sph.RNoyau)[45, :, :])"
   ]
  },
  {
   "cell_type": "code",
   "execution_count": null,
   "metadata": {},
   "outputs": [],
   "source": [
    "img_eq = exposure.equalize_hist(Sph.OrangeImage[65,350:1750,200:2000])\n",
    "im =  gaussian_filter(img_eq, sigma=4)\n",
    "\n",
    "fig, ax = plt.subplots(figsize = (16,16))\n",
    "\n",
    "for cell in data['cells'].keys():\n",
    "    \n",
    "    loc = data['cells'][cell]\n",
    "    \n",
    "    for neigh in loc['neighbours']:\n",
    "        \n",
    "        x1 = float(loc['x'])-200\n",
    "        x2 = float(data['cells'][neigh]['x'])-200\n",
    "        y1 = float(loc['y'])-350\n",
    "        y2 = float(data['cells'][neigh]['y'])-350\n",
    "        \n",
    "        plt.plot([x1,x2], [y1,y2], 'r-', zorder = 1)\n",
    "        \n",
    "plt.imshow(im[:-250,:-250])\n",
    "ax.scatter(FigureFrame['x']-200, FigureFrame['y']-350, c=FigureFrame['label'].astype(np.float), edgecolor=\"k\", s=150, zorder=2)"
   ]
  },
  {
   "cell_type": "markdown",
   "metadata": {},
   "source": [
    "### Modify the classification\n",
    "\n",
    "We correct the classification by loading the .json file with the original intensities.\n"
   ]
  },
  {
   "cell_type": "code",
   "execution_count": null,
   "metadata": {},
   "outputs": [],
   "source": [
    "import glob"
   ]
  },
  {
   "cell_type": "code",
   "execution_count": null,
   "metadata": {},
   "outputs": [],
   "source": [
    "def default(o):\n",
    "    if isinstance(o, np.int64): return int(o)\n",
    "    raise TypeError\n",
    "\n",
    "IntensityPath = r'\\\\atlas.pasteur.fr\\Multicell\\Gustave\\fusionGustave\\TIFF BIS\\Spheroids\\\\'\n",
    "\n",
    "import json\n",
    "\n",
    "for fileName in glob.glob(IntensityPath + '*.json')[1:]:\n",
    "    \n",
    "    print(fileName)\n",
    "    \n",
    "    with open(fileName) as json_file:\n",
    "        data = json.load(json_file)\n",
    "        \n",
    "    # Extract the intensities\n",
    "\n",
    "    ClassFrame = pandas.DataFrame()\n",
    "    j = 0\n",
    "\n",
    "    for cell in data['cells'].keys():\n",
    "\n",
    "        loc = data['cells'][cell]\n",
    "\n",
    "        ClassFrame.loc[j, 'particle'] = cell\n",
    "        ClassFrame.loc[j, 'Green'] = loc['Intensity Green']\n",
    "        ClassFrame.loc[j, 'Orange'] = loc['Intensity Orange']\n",
    "\n",
    "        j += 1\n",
    "\n",
    "    X = ClassFrame[['Green']]\n",
    "    scaler = StandardScaler()\n",
    "    scaler.fit(X)\n",
    "    X = scaler.transform(X)\n",
    "    gmm =  mixture.GaussianMixture(n_components=2).fit(X)\n",
    "    labels = gmm.predict(X)\n",
    "\n",
    "    ClassFrame['labels'] = labels\n",
    "    \n",
    "    a = ClassFrame.loc[ClassFrame['Green'] == ClassFrame['Green'].max(), 'labels'].iloc[0]\n",
    "    \n",
    "    if a < 0:\n",
    "        \n",
    "        ClassFrame['labels'] *= -1\n",
    "\n",
    "    for part in ClassFrame['particle'].unique():\n",
    "\n",
    "        data['cells'][str(part)]['state GMM postprocess'] = 2*ClassFrame.loc[ClassFrame['particle'] == part, 'labels'].iloc[0]-1\n",
    "        \n",
    "    with open(fileName, 'w') as fp:\n",
    "\n",
    "        json.dump(data, fp, default = default)"
   ]
  },
  {
   "cell_type": "code",
   "execution_count": null,
   "metadata": {},
   "outputs": [],
   "source": [
    "ClassFrame = pandas.DataFrame()\n",
    "j = 0\n",
    "\n",
    "for cell in data['cells'].keys():\n",
    "    \n",
    "    nCross = 0\n",
    "    nSelf = 0\n",
    "\n",
    "    loc = data['cells'][cell]\n",
    "    si = loc['state GMM postprocess']\n",
    "    \n",
    "    for neigh in loc['neighbours']:\n",
    "        sj = data['cells'][neigh]['state GMM postprocess']\n",
    "        \n",
    "        if sj*si < 0:\n",
    "            \n",
    "            nCross += 1\n",
    "            \n",
    "        if sj*si > 0 :\n",
    "            \n",
    "            nSelf += 1\n",
    "            \n",
    "    ClassFrame.loc[j, 'particle'] = cell\n",
    "    ClassFrame.loc[j, 'state'] = si\n",
    "    ClassFrame.loc[j, 'neighbours'] = nCross + nSelf\n",
    "    ClassFrame.loc[j, 'cross link'] = nCross\n",
    "    ClassFrame.loc[j, 'self link'] = nSelf\n",
    "    j += 1"
   ]
  },
  {
   "cell_type": "code",
   "execution_count": null,
   "metadata": {},
   "outputs": [],
   "source": [
    "IntensityPath = r'\\\\atlas.pasteur.fr\\Multicell\\Gustave\\fusionGustave\\TIFF BIS\\Spheroids\\\\'\n",
    "\n",
    "import json\n",
    "\n",
    "ClassFrame = pandas.DataFrame()\n",
    "j = 0\n",
    "\n",
    "for fileName in glob.glob(IntensityPath + '*.json')[1:]:\n",
    "    \n",
    "    _, sph, time = fileName.split('_')\n",
    "    time, _ = time.split('.')\n",
    "    \n",
    "    print(fileName)\n",
    "    \n",
    "    with open(fileName) as json_file:\n",
    "        data = json.load(json_file)\n",
    "        \n",
    "    try:\n",
    "        \n",
    "        for cell in data['cells'].keys():\n",
    "\n",
    "            nCross = 0\n",
    "            nSelf = 0\n",
    "\n",
    "            loc = data['cells'][cell]\n",
    "        \n",
    "        \n",
    "            si = loc['state GMM postprocess']\n",
    "\n",
    "            for neigh in loc['neighbours']:\n",
    "                sj = data['cells'][neigh]['state GMM postprocess']\n",
    "\n",
    "                if sj*si < 0:\n",
    "\n",
    "                    nCross += 1\n",
    "\n",
    "                if sj*si > 0 :\n",
    "\n",
    "                    nSelf += 1\n",
    "\n",
    "            ClassFrame.loc[j, 'time'] = time\n",
    "            ClassFrame.loc[j, 'spheroid'] = sph\n",
    "            ClassFrame.loc[j, 'particle'] = cell\n",
    "            ClassFrame.loc[j, 'state'] = si\n",
    "            ClassFrame.loc[j, 'neighbours'] = nCross + nSelf\n",
    "            ClassFrame.loc[j, 'cross link'] = nCross\n",
    "            ClassFrame.loc[j, 'self link'] = nSelf\n",
    "            j += 1\n",
    "            \n",
    "    except: print(fileName)"
   ]
  },
  {
   "cell_type": "code",
   "execution_count": null,
   "metadata": {},
   "outputs": [],
   "source": [
    "ResultFrame = pandas.DataFrame()\n",
    "i = 0\n",
    "\n",
    "for sph in ClassFrame['spheroid'].unique():\n",
    "    for time in ClassFrame.loc[ClassFrame['spheroid'] == sph, 'time'].unique():\n",
    "        \n",
    "        locFrame = ClassFrame.loc[(ClassFrame['spheroid'] == sph) &\n",
    "                                 (ClassFrame['time'] == time)]\n",
    "        \n",
    "        ResultFrame.loc[i, 'spheroid'] = sph\n",
    "        ResultFrame.loc[i, 'time'] = int(time)\n",
    "        ResultFrame.loc[i, 'degree'] = locFrame['neighbours'].mean()\n",
    "        ResultFrame.loc[i, 'degree -1'] = locFrame.loc[locFrame['state'] == -1, 'neighbours'].mean()\n",
    "        ResultFrame.loc[i, 'degree 1'] = locFrame.loc[locFrame['state'] == 1, 'neighbours'].mean()\n",
    "        ResultFrame.loc[i, 'p(cross|s = 1)'] = locFrame.loc[locFrame['state'] == 1, \n",
    "                'cross link'].sum()/locFrame.loc[locFrame['state'] == 1, 'neighbours'].sum()\n",
    "        ResultFrame.loc[i, 'p(cross|s = -1)'] = locFrame.loc[locFrame['state'] == -1, \n",
    "                'cross link'].sum()/locFrame.loc[locFrame['state'] == -1, 'neighbours'].sum()\n",
    "        i += 1"
   ]
  },
  {
   "cell_type": "code",
   "execution_count": null,
   "metadata": {},
   "outputs": [],
   "source": [
    "plt.figure()\n",
    "\n",
    "for sph in ResultFrame['spheroid'].unique():\n",
    "    \n",
    "    locFrame = ResultFrame.loc[ResultFrame['spheroid'] == sph].sort_values('time')\n",
    "    \n",
    "    plt.plot(locFrame['time'], locFrame['p(cross|s = -1)'])"
   ]
  },
  {
   "cell_type": "markdown",
   "metadata": {},
   "source": [
    "### Calculating a pseudo-energy\n",
    "\n",
    "### Extracting features"
   ]
  },
  {
   "cell_type": "markdown",
   "metadata": {},
   "source": [
    "### Refined analysis\n",
    "\n",
    "We use the refined metrics of networkx to add centrality, degree and other measures to the death/survival rates of the spheroid. The following process follows:\n",
    "\n",
    " - open json file\n",
    " - modify the spheroid properties\n",
    " - save global properties in soheroid file\n",
    " - save file"
   ]
  },
  {
   "cell_type": "code",
   "execution_count": null,
   "metadata": {},
   "outputs": [],
   "source": [
    "def _refineSph(dic):\n",
    "    \n",
    "    G = _makeG(dic)\n",
    "    \n",
    "    A = networkx.betweenness_centrality(G) # betweeness centrality\n",
    "    B = networkx.clustering(G)\n",
    "    C = networkx.degree(G)\n",
    "    \n",
    "    for v in G:\n",
    "        \n",
    "        dic['cells'][v]['degree'] = C[v]\n",
    "        dic['cells'][v]['clustering'] = B[v]\n",
    "        dic['cells'][v]['centrality'] = A[v]\n",
    "        \n",
    "    dic['N'] = len(dic['cells'])\n",
    "    dic['assortativity'] = nx.degree_assortativity_coefficient(G)\n",
    "    dic['average degree'] = np.asarray([float(C[v]) for v in G]).mean()\n",
    "    \n",
    "    return dic"
   ]
  },
  {
   "cell_type": "code",
   "execution_count": null,
   "metadata": {},
   "outputs": [],
   "source": [
    "_refineSph(_Sph)\n",
    "\n",
    "process._saveSpheroid(_Sph.Spheroid, path + '\\spheroid_' + spheroidFolder + r'_' +  timeFolder + '.json')"
   ]
  }
 ],
 "metadata": {
  "kernelspec": {
   "display_name": "Python 3",
   "language": "python",
   "name": "python3"
  },
  "language_info": {
   "codemirror_mode": {
    "name": "ipython",
    "version": 3
   },
   "file_extension": ".py",
   "mimetype": "text/x-python",
   "name": "python",
   "nbconvert_exporter": "python",
   "pygments_lexer": "ipython3",
   "version": "3.7.0"
  }
 },
 "nbformat": 4,
 "nbformat_minor": 2
}
