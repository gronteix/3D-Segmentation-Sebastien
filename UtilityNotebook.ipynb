{
 "cells": [
  {
   "cell_type": "code",
   "execution_count": 1,
   "metadata": {},
   "outputs": [],
   "source": [
    "import os\n",
    "import numpy as np\n",
    "import networkx as nx\n",
    "from scipy.ndimage import gaussian_filter\n",
    "from skimage import exposure\n",
    "\n",
    "import matplotlib.pyplot as plt\n",
    "from skimage import exposure\n",
    "\n",
    "import process\n",
    "import pandas"
   ]
  },
  {
   "cell_type": "markdown",
   "metadata": {},
   "source": [
    "# Chip analysis\n",
    "\n",
    "The following notebook is an analysis notebook. It has been conceived to order and analyse a dump of confocal images. All questions concerning the code should be emailed to gustave.ronteix@pasteur.fr."
   ]
  },
  {
   "cell_type": "markdown",
   "metadata": {},
   "source": [
    "These cells are to be used as fitting parameters for the cell"
   ]
  },
  {
   "cell_type": "code",
   "execution_count": null,
   "metadata": {},
   "outputs": [],
   "source": [
    "path = r'Z:\\Cold Storage\\20191106\\directmix\\03\\06\\cropStack'\n",
    "\n",
    "livePosition = 2\n",
    "green = 0\n",
    "orange = 1\n",
    "\n",
    "channels = [livePosition, green, orange]\n",
    "\n",
    "zRatio = 1\n",
    "r = 7\n",
    "d = 20\n",
    "pxtoum = 2/3\n",
    "\n",
    "dX = 2*(int(r/pxtoum)//2)+1\n",
    "dY = 2*(int(r/pxtoum)//2)+1\n",
    "dZ = 2*(int(zRatio*r/pxtoum)//2)+1\n",
    "\n",
    "rNoyau = (dZ, dX, dY)\n",
    "\n",
    "dX = 2*(int(d/pxtoum)//2)+1\n",
    "dY = 2*(int(d/pxtoum)//2)+1\n",
    "dZ = 2*(int(zRatio*d/pxtoum)//2)+1\n",
    "\n",
    "dCells = (dZ, dX, dY)\n",
    "\n",
    "minmass = 5000"
   ]
  },
  {
   "cell_type": "code",
   "execution_count": null,
   "metadata": {},
   "outputs": [],
   "source": [
    "import spheroid\n",
    "\n",
    "Sph = spheroid.spheroid(path, '03', '04', zRatio, r, d,pxtoum, minmass)\n",
    "    # Initialize spheroid\n",
    "\n",
    "if len(channels) == 3: # Improve dependancy on channel number...\n",
    "\n",
    "    Sph._loadImage(channels[0], 'NucImage') # Load live cells\n",
    "    Sph._loadImage(channels[1], 'GreenImage') # Load green cells\n",
    "    Sph._loadImage(channels[2], 'OrangeImage') # Load orange cells\n",
    "\n",
    "else: print(\"Wrong number of color channels\")\n",
    "\n",
    "print('image made, starting nuclei ID')"
   ]
  },
  {
   "cell_type": "code",
   "execution_count": null,
   "metadata": {},
   "outputs": [],
   "source": [
    "ax, fig = plt.subplots(figsize = (10,10))\n",
    "plt.imshow(Sph.GreenImage[45,:,:])"
   ]
  },
  {
   "cell_type": "code",
   "execution_count": null,
   "metadata": {},
   "outputs": [],
   "source": [
    "from trackpy import preprocessing\n",
    "import trackpy\n",
    "\n",
    "df = trackpy.locate(Sph.NucImage[:,:,:], rNoyau, minmass=None, maxsize=None, separation=rNoyau, noise_size=1, \n",
    "                    smoothing_size=None, threshold=None, invert=False, percentile=64, topn=300, \n",
    "                    preprocess=True, max_iterations=10, filter_before=None, filter_after=None, characterize=True, \n",
    "                    engine='numba')"
   ]
  },
  {
   "cell_type": "code",
   "execution_count": null,
   "metadata": {},
   "outputs": [],
   "source": [
    "df['mass'].std()"
   ]
  },
  {
   "cell_type": "code",
   "execution_count": null,
   "metadata": {},
   "outputs": [],
   "source": [
    "def _getCircle(x, y, radius):\n",
    "    \n",
    "    s = np.linspace(0, 2*np.pi, 20)\n",
    "    \n",
    "    return (x - radius*np.cos(s), y - radius*np.sin(s))"
   ]
  },
  {
   "cell_type": "code",
   "execution_count": null,
   "metadata": {},
   "outputs": [],
   "source": [
    "z = 25"
   ]
  },
  {
   "cell_type": "code",
   "execution_count": null,
   "metadata": {
    "scrolled": false
   },
   "outputs": [],
   "source": [
    "fd = df.loc[df['mass'] > 2414392/4]\n",
    "\n",
    "#fd =fd.loc[((fd['x'] -fd['x'].mean())**2 < 4*fd['x'].std()**2) &\n",
    "#          ((fd['y'] -fd['y'].mean())**2 < 4*fd['y'].std()**2)]\n",
    "\n",
    "a, b, c = dCells\n",
    "\n",
    "img_eq = Sph.NucImage[z]\n",
    "im =  gaussian_filter(img_eq, sigma=2)\n",
    "\n",
    "ax, fig = plt.subplots(figsize = (16,16))\n",
    "plt.imshow(im)\n",
    "\n",
    "for ind, row in fd.iterrows():\n",
    "    \n",
    "    r = np.abs(row['z']-z)*2\n",
    "    \n",
    "    if r < b:\n",
    "    \n",
    "        x, y = _getCircle(row['x'], row['y'], np.sqrt(b**2 - r**2))\n",
    "    \n",
    "        plt.plot(x, y, 'r')\n",
    "        \n",
    "        plt.scatter(row['x'], row['y'])"
   ]
  },
  {
   "cell_type": "code",
   "execution_count": 2,
   "metadata": {},
   "outputs": [],
   "source": [
    "import sys\n",
    "sys.path.insert(1, r'C:\\Users\\gronteix\\Documents\\Python Scripts\\image-analysis')\n",
    "\n",
    "import cropper"
   ]
  },
  {
   "cell_type": "code",
   "execution_count": 15,
   "metadata": {},
   "outputs": [],
   "source": [
    "path = r'Z:\\Cold Storage\\20191106\\directmix'"
   ]
  },
  {
   "cell_type": "code",
   "execution_count": null,
   "metadata": {},
   "outputs": [
    {
     "data": {
      "application/vnd.jupyter.widget-view+json": {
       "model_id": "ec0629dbe6dc44e48f5ae1efaa9aa8fe",
       "version_major": 2,
       "version_minor": 0
      },
      "text/plain": [
       "HBox(children=(IntProgress(value=0, max=83), HTML(value='')))"
      ]
     },
     "metadata": {},
     "output_type": "display_data"
    },
    {
     "name": "stdout",
     "output_type": "stream",
     "text": [
      "\n"
     ]
    },
    {
     "data": {
      "application/vnd.jupyter.widget-view+json": {
       "model_id": "a2d9519bd7404770ae731f90d68de286",
       "version_major": 2,
       "version_minor": 0
      },
      "text/plain": [
       "HBox(children=(IntProgress(value=0, max=83), HTML(value='')))"
      ]
     },
     "metadata": {},
     "output_type": "display_data"
    },
    {
     "name": "stdout",
     "output_type": "stream",
     "text": [
      "\n"
     ]
    },
    {
     "data": {
      "application/vnd.jupyter.widget-view+json": {
       "model_id": "05c4f231a0354bb28d1507d2fb6ba51b",
       "version_major": 2,
       "version_minor": 0
      },
      "text/plain": [
       "HBox(children=(IntProgress(value=0, max=83), HTML(value='')))"
      ]
     },
     "metadata": {},
     "output_type": "display_data"
    },
    {
     "name": "stdout",
     "output_type": "stream",
     "text": [
      "\n"
     ]
    },
    {
     "data": {
      "application/vnd.jupyter.widget-view+json": {
       "model_id": "dc21e6aed5104c1c8ae15a26fb60decd",
       "version_major": 2,
       "version_minor": 0
      },
      "text/plain": [
       "HBox(children=(IntProgress(value=0, max=83), HTML(value='')))"
      ]
     },
     "metadata": {},
     "output_type": "display_data"
    },
    {
     "name": "stdout",
     "output_type": "stream",
     "text": [
      "\n"
     ]
    },
    {
     "data": {
      "application/vnd.jupyter.widget-view+json": {
       "model_id": "e4536bd27b0c4e6caaa2d227083a3399",
       "version_major": 2,
       "version_minor": 0
      },
      "text/plain": [
       "HBox(children=(IntProgress(value=0, max=83), HTML(value='')))"
      ]
     },
     "metadata": {},
     "output_type": "display_data"
    },
    {
     "name": "stdout",
     "output_type": "stream",
     "text": [
      "\n"
     ]
    },
    {
     "data": {
      "application/vnd.jupyter.widget-view+json": {
       "model_id": "62c1b6b26b3a4eff91dabcee1ba47369",
       "version_major": 2,
       "version_minor": 0
      },
      "text/plain": [
       "HBox(children=(IntProgress(value=0, max=83), HTML(value='')))"
      ]
     },
     "metadata": {},
     "output_type": "display_data"
    },
    {
     "name": "stdout",
     "output_type": "stream",
     "text": [
      "\n"
     ]
    },
    {
     "data": {
      "application/vnd.jupyter.widget-view+json": {
       "model_id": "3aeb9da975cc4de4baff2ede5d2eae9c",
       "version_major": 2,
       "version_minor": 0
      },
      "text/plain": [
       "HBox(children=(IntProgress(value=0, max=82), HTML(value='')))"
      ]
     },
     "metadata": {},
     "output_type": "display_data"
    },
    {
     "name": "stdout",
     "output_type": "stream",
     "text": [
      "\n"
     ]
    },
    {
     "data": {
      "application/vnd.jupyter.widget-view+json": {
       "model_id": "659a84786d1f459da3ea02c22f3c9849",
       "version_major": 2,
       "version_minor": 0
      },
      "text/plain": [
       "HBox(children=(IntProgress(value=0, max=82), HTML(value='')))"
      ]
     },
     "metadata": {},
     "output_type": "display_data"
    },
    {
     "name": "stdout",
     "output_type": "stream",
     "text": [
      "\n"
     ]
    },
    {
     "data": {
      "application/vnd.jupyter.widget-view+json": {
       "model_id": "d30a59d6d0c54ac0ad8837156563070b",
       "version_major": 2,
       "version_minor": 0
      },
      "text/plain": [
       "HBox(children=(IntProgress(value=0, max=82), HTML(value='')))"
      ]
     },
     "metadata": {},
     "output_type": "display_data"
    },
    {
     "name": "stdout",
     "output_type": "stream",
     "text": [
      "\n"
     ]
    },
    {
     "data": {
      "application/vnd.jupyter.widget-view+json": {
       "model_id": "952bc603e134492f818e2261f2cee085",
       "version_major": 2,
       "version_minor": 0
      },
      "text/plain": [
       "HBox(children=(IntProgress(value=0, max=82), HTML(value='')))"
      ]
     },
     "metadata": {},
     "output_type": "display_data"
    },
    {
     "name": "stdout",
     "output_type": "stream",
     "text": [
      "\n"
     ]
    },
    {
     "data": {
      "application/vnd.jupyter.widget-view+json": {
       "model_id": "80801098c6944600ace35e2384a1e9f2",
       "version_major": 2,
       "version_minor": 0
      },
      "text/plain": [
       "HBox(children=(IntProgress(value=0, max=82), HTML(value='')))"
      ]
     },
     "metadata": {},
     "output_type": "display_data"
    },
    {
     "name": "stdout",
     "output_type": "stream",
     "text": [
      "\n"
     ]
    },
    {
     "data": {
      "application/vnd.jupyter.widget-view+json": {
       "model_id": "fbb63d5796584415afa87c4139b1f7ff",
       "version_major": 2,
       "version_minor": 0
      },
      "text/plain": [
       "HBox(children=(IntProgress(value=0, max=82), HTML(value='')))"
      ]
     },
     "metadata": {},
     "output_type": "display_data"
    },
    {
     "name": "stdout",
     "output_type": "stream",
     "text": [
      "\n"
     ]
    },
    {
     "data": {
      "application/vnd.jupyter.widget-view+json": {
       "model_id": "751cdafb509a43a39c053162501ebd2e",
       "version_major": 2,
       "version_minor": 0
      },
      "text/plain": [
       "HBox(children=(IntProgress(value=0, max=82), HTML(value='')))"
      ]
     },
     "metadata": {},
     "output_type": "display_data"
    },
    {
     "name": "stdout",
     "output_type": "stream",
     "text": [
      "\n"
     ]
    },
    {
     "data": {
      "application/vnd.jupyter.widget-view+json": {
       "model_id": "791e57d6f4ca40458af4a3a814b7823a",
       "version_major": 2,
       "version_minor": 0
      },
      "text/plain": [
       "HBox(children=(IntProgress(value=0, max=82), HTML(value='')))"
      ]
     },
     "metadata": {},
     "output_type": "display_data"
    },
    {
     "name": "stdout",
     "output_type": "stream",
     "text": [
      "\n"
     ]
    },
    {
     "data": {
      "application/vnd.jupyter.widget-view+json": {
       "model_id": "2604b01e38ff4399a4245964286d5341",
       "version_major": 2,
       "version_minor": 0
      },
      "text/plain": [
       "HBox(children=(IntProgress(value=0, max=82), HTML(value='')))"
      ]
     },
     "metadata": {},
     "output_type": "display_data"
    },
    {
     "name": "stdout",
     "output_type": "stream",
     "text": [
      "\n"
     ]
    },
    {
     "data": {
      "application/vnd.jupyter.widget-view+json": {
       "model_id": "3a845d0cf7e84fbfb4fb1fead8822afb",
       "version_major": 2,
       "version_minor": 0
      },
      "text/plain": [
       "HBox(children=(IntProgress(value=0, max=82), HTML(value='')))"
      ]
     },
     "metadata": {},
     "output_type": "display_data"
    },
    {
     "name": "stdout",
     "output_type": "stream",
     "text": [
      "\n"
     ]
    },
    {
     "data": {
      "application/vnd.jupyter.widget-view+json": {
       "model_id": "b33930abfd284e3fb92259ca25fcb4c4",
       "version_major": 2,
       "version_minor": 0
      },
      "text/plain": [
       "HBox(children=(IntProgress(value=0, max=82), HTML(value='')))"
      ]
     },
     "metadata": {},
     "output_type": "display_data"
    },
    {
     "name": "stdout",
     "output_type": "stream",
     "text": [
      "\n"
     ]
    },
    {
     "data": {
      "application/vnd.jupyter.widget-view+json": {
       "model_id": "92a94e32186545c99865aed8dea3ccd3",
       "version_major": 2,
       "version_minor": 0
      },
      "text/plain": [
       "HBox(children=(IntProgress(value=0, max=82), HTML(value='')))"
      ]
     },
     "metadata": {},
     "output_type": "display_data"
    },
    {
     "name": "stdout",
     "output_type": "stream",
     "text": [
      "\n"
     ]
    },
    {
     "data": {
      "application/vnd.jupyter.widget-view+json": {
       "model_id": "b91d1d22cf114a08b51dda9adf89aab2",
       "version_major": 2,
       "version_minor": 0
      },
      "text/plain": [
       "HBox(children=(IntProgress(value=0, max=82), HTML(value='')))"
      ]
     },
     "metadata": {},
     "output_type": "display_data"
    },
    {
     "name": "stdout",
     "output_type": "stream",
     "text": [
      "\n"
     ]
    },
    {
     "data": {
      "application/vnd.jupyter.widget-view+json": {
       "model_id": "b6633994b2044df7ae1cbd466af9f66b",
       "version_major": 2,
       "version_minor": 0
      },
      "text/plain": [
       "HBox(children=(IntProgress(value=0, max=82), HTML(value='')))"
      ]
     },
     "metadata": {},
     "output_type": "display_data"
    }
   ],
   "source": [
    "for folder in os.listdir(path):\n",
    "        \n",
    "    for subfolder in os.listdir(os.path.join(path, folder)):\n",
    "        \n",
    "        cropper._cropBySph(os.path.join(path, folder, subfolder),2,300,3/2)"
   ]
  },
  {
   "cell_type": "markdown",
   "metadata": {},
   "source": [
    "### Processing\n",
    "\n",
    "The grunt functions are called from process.\n",
    "\n",
    "Attention: verify the channel order."
   ]
  },
  {
   "cell_type": "code",
   "execution_count": null,
   "metadata": {},
   "outputs": [],
   "source": [
    "path = r'\\\\atlas.pasteur.fr\\Multicell\\Gustave\\20191106\\directmix'\n",
    "spheroidFolder = '1'\n",
    "timeFolder = '2'"
   ]
  },
  {
   "cell_type": "code",
   "execution_count": null,
   "metadata": {},
   "outputs": [],
   "source": [
    "process._sortFiles(path)"
   ]
  },
  {
   "cell_type": "code",
   "execution_count": null,
   "metadata": {
    "scrolled": true
   },
   "outputs": [],
   "source": [
    "process._makeSpheroidClass(path, zRatio, rNoyau, dCells, pxtoum, channels, minmass)"
   ]
  },
  {
   "cell_type": "markdown",
   "metadata": {},
   "source": [
    "Remarquons que la segmentation du spheroide dans un ou l'autre des types de cellules depend ici du classificateur naif que nous avons cree. Il repose sur un fit lineaire des points en fonction de leur couleur. On trouve que ce dernier doit avoir comme pente:\n",
    "\n",
    "$a = \\frac{<xy>}{<x^2>}$\n",
    "\n",
    "Le signe par rapport a celui-ci est donne par:\n",
    "\n",
    "$sign = y - a*x$\n",
    "\n",
    "Ce qui nous donne par consequence un moyen rapide pour affecter un genre a chaque cellule."
   ]
  },
  {
   "cell_type": "code",
   "execution_count": null,
   "metadata": {},
   "outputs": [],
   "source": [
    "IntensityPath = r'\\\\atlas.pasteur.fr\\Multicell\\Gustave\\fusionGustave\\TIFF BIS\\Spheroids\\\\'"
   ]
  },
  {
   "cell_type": "code",
   "execution_count": null,
   "metadata": {},
   "outputs": [],
   "source": [
    "df1 = pandas.read_csv(IntensityPath + 'intensityFrame_5_19.csv')"
   ]
  },
  {
   "cell_type": "code",
   "execution_count": null,
   "metadata": {},
   "outputs": [],
   "source": [
    "from sklearn.preprocessing import StandardScaler\n",
    "\n",
    "X = df1[['Green', 'Orange']]\n",
    "\n",
    "scaler = StandardScaler()\n",
    "scaler.fit(X)\n",
    "X = scaler.transform(X)\n",
    "\n",
    "df1['Green Corr'] = X[:,0]\n",
    "df1['Orange Corr'] = X[:,1]"
   ]
  },
  {
   "cell_type": "code",
   "execution_count": null,
   "metadata": {},
   "outputs": [],
   "source": [
    "import matplotlib.pyplot as plt\n",
    "\n",
    "ax1 = df1.plot.scatter(x='Orange Corr',y='Green Corr', c= 'r')"
   ]
  },
  {
   "cell_type": "code",
   "execution_count": null,
   "metadata": {},
   "outputs": [],
   "source": [
    "from sklearn.cluster import KMeans\n",
    "import matplotlib.pyplot as plt\n",
    "import numpy as np\n",
    "\n",
    "gmm =  mixture.GaussianMixture(n_components=2).fit(X)\n",
    "labels = gmm.predict(X)"
   ]
  },
  {
   "cell_type": "code",
   "execution_count": null,
   "metadata": {},
   "outputs": [],
   "source": [
    "gmm =  mixture.GaussianMixture(n_components=2).fit(X)\n",
    "labels = gmm.predict(X)\n",
    "fig, ax = plt.subplots(1, figsize=(7,7))\n",
    "ax.scatter(df1['Orange Corr'],df1['Green Corr'],\n",
    "          c=labels.astype(np.float), edgecolor=\"k\", s=50)\n",
    "ax.set_xlabel(\"Corrected Green\")\n",
    "ax.set_ylabel(\"Corrected Orange\")\n",
    "plt.title(\"Gaussian Mixture\", fontsize=14)"
   ]
  },
  {
   "cell_type": "markdown",
   "metadata": {},
   "source": [
    "## Checking the spheroid analysis\n",
    "\n",
    " - Get spheroid Data\n",
    " - Plot points\n",
    " - Plot segments\n",
    " - plot original image"
   ]
  },
  {
   "cell_type": "code",
   "execution_count": null,
   "metadata": {},
   "outputs": [],
   "source": [
    "X = df1[['Green']]\n",
    "scaler = StandardScaler()\n",
    "scaler.fit(X)\n",
    "X = scaler.transform(X)\n",
    "km = KMeans(n_clusters=2)\n",
    "km.fit(X)\n",
    "km.predict(X)\n",
    "labels = km.labels_\n",
    "gmm =  mixture.GaussianMixture(n_components=2).fit(X)\n",
    "labels = gmm.predict(X)"
   ]
  },
  {
   "cell_type": "code",
   "execution_count": null,
   "metadata": {},
   "outputs": [],
   "source": [
    "fig, ax = plt.subplots(1, figsize=(7,7))\n",
    "ax.scatter(df1['Orange Corr'],df1['Green Corr'],\n",
    "          c=labels.astype(np.float), edgecolor=\"k\", s=50)\n",
    "ax.set_xlabel(\"Corrected Green\")\n",
    "ax.set_ylabel(\"Corrected Orange\")\n",
    "plt.title(\"Gaussian Mixture\", fontsize=14)"
   ]
  },
  {
   "cell_type": "code",
   "execution_count": null,
   "metadata": {},
   "outputs": [],
   "source": [
    "IntensityPath = r'\\\\atlas.pasteur.fr\\Multicell\\Gustave\\fusionGustave\\TIFF BIS\\Spheroids\\\\'\n",
    "\n",
    "import json\n",
    "\n",
    "with open(IntensityPath + 'spheroid_3_19.json') as json_file:\n",
    "    data = json.load(json_file)"
   ]
  },
  {
   "cell_type": "code",
   "execution_count": null,
   "metadata": {},
   "outputs": [],
   "source": [
    "FigureFrame = pandas.DataFrame()\n",
    "j = 0\n",
    "\n",
    "for cell in data['cells'].keys():\n",
    "    \n",
    "    loc = data['cells'][cell]\n",
    "    \n",
    "    FigureFrame.loc[j, 'x'] = loc['x']\n",
    "    FigureFrame.loc[j, 'y'] = loc['y']\n",
    "    FigureFrame.loc[j, 'color'] = loc['state GMM']\n",
    "    \n",
    "    j += 1"
   ]
  },
  {
   "cell_type": "code",
   "execution_count": null,
   "metadata": {},
   "outputs": [],
   "source": [
    "FigureFrame['x'] = pandas.to_numeric(FigureFrame['x'])\n",
    "FigureFrame['y'] = pandas.to_numeric(FigureFrame['y'])\n",
    "FigureFrame['label'] = (FigureFrame['color'] == 'Green').astype('int')"
   ]
  },
  {
   "cell_type": "code",
   "execution_count": null,
   "metadata": {},
   "outputs": [],
   "source": [
    "plt.imshow(gaussian_filter(Sph.GreenImage[:,250:1750,750:2000],sigma=Sph.RNoyau)[45, :, :])"
   ]
  },
  {
   "cell_type": "code",
   "execution_count": null,
   "metadata": {},
   "outputs": [],
   "source": [
    "img_eq = exposure.equalize_hist(Sph.OrangeImage[65,350:1750,200:2000])\n",
    "im =  gaussian_filter(img_eq, sigma=4)\n",
    "\n",
    "fig, ax = plt.subplots(figsize = (16,16))\n",
    "\n",
    "for cell in data['cells'].keys():\n",
    "    \n",
    "    loc = data['cells'][cell]\n",
    "    \n",
    "    for neigh in loc['neighbours']:\n",
    "        \n",
    "        x1 = float(loc['x'])-200\n",
    "        x2 = float(data['cells'][neigh]['x'])-200\n",
    "        y1 = float(loc['y'])-350\n",
    "        y2 = float(data['cells'][neigh]['y'])-350\n",
    "        \n",
    "        plt.plot([x1,x2], [y1,y2], 'r-', zorder = 1)\n",
    "        \n",
    "plt.imshow(im[:-250,:-250])\n",
    "ax.scatter(FigureFrame['x']-200, FigureFrame['y']-350, c=FigureFrame['label'].astype(np.float), edgecolor=\"k\", s=150, zorder=2)"
   ]
  },
  {
   "cell_type": "markdown",
   "metadata": {},
   "source": [
    "### Modify the classification\n",
    "\n",
    "We correct the classification by loading the .json file with the original intensities.\n"
   ]
  },
  {
   "cell_type": "code",
   "execution_count": null,
   "metadata": {},
   "outputs": [],
   "source": [
    "import glob"
   ]
  },
  {
   "cell_type": "code",
   "execution_count": null,
   "metadata": {},
   "outputs": [],
   "source": [
    "def default(o):\n",
    "    if isinstance(o, np.int64): return int(o)\n",
    "    raise TypeError\n",
    "\n",
    "IntensityPath = r'\\\\atlas.pasteur.fr\\Multicell\\Gustave\\fusionGustave\\TIFF BIS\\Spheroids\\\\'\n",
    "\n",
    "import json\n",
    "\n",
    "for fileName in glob.glob(IntensityPath + '*.json')[1:]:\n",
    "    \n",
    "    print(fileName)\n",
    "    \n",
    "    with open(fileName) as json_file:\n",
    "        data = json.load(json_file)\n",
    "        \n",
    "    # Extract the intensities\n",
    "\n",
    "    ClassFrame = pandas.DataFrame()\n",
    "    j = 0\n",
    "\n",
    "    for cell in data['cells'].keys():\n",
    "\n",
    "        loc = data['cells'][cell]\n",
    "\n",
    "        ClassFrame.loc[j, 'particle'] = cell\n",
    "        ClassFrame.loc[j, 'Green'] = loc['Intensity Green']\n",
    "        ClassFrame.loc[j, 'Orange'] = loc['Intensity Orange']\n",
    "\n",
    "        j += 1\n",
    "\n",
    "    X = ClassFrame[['Green']]\n",
    "    scaler = StandardScaler()\n",
    "    scaler.fit(X)\n",
    "    X = scaler.transform(X)\n",
    "    gmm =  mixture.GaussianMixture(n_components=2).fit(X)\n",
    "    labels = gmm.predict(X)\n",
    "\n",
    "    ClassFrame['labels'] = labels\n",
    "    \n",
    "    a = ClassFrame.loc[ClassFrame['Green'] == ClassFrame['Green'].max(), 'labels'].iloc[0]\n",
    "    \n",
    "    if a < 0:\n",
    "        \n",
    "        ClassFrame['labels'] *= -1\n",
    "\n",
    "    for part in ClassFrame['particle'].unique():\n",
    "\n",
    "        data['cells'][str(part)]['state GMM postprocess'] = 2*ClassFrame.loc[ClassFrame['particle'] == part, 'labels'].iloc[0]-1\n",
    "        \n",
    "    with open(fileName, 'w') as fp:\n",
    "\n",
    "        json.dump(data, fp, default = default)"
   ]
  },
  {
   "cell_type": "code",
   "execution_count": null,
   "metadata": {},
   "outputs": [],
   "source": [
    "ClassFrame = pandas.DataFrame()\n",
    "j = 0\n",
    "\n",
    "for cell in data['cells'].keys():\n",
    "    \n",
    "    nCross = 0\n",
    "    nSelf = 0\n",
    "\n",
    "    loc = data['cells'][cell]\n",
    "    si = loc['state GMM postprocess']\n",
    "    \n",
    "    for neigh in loc['neighbours']:\n",
    "        sj = data['cells'][neigh]['state GMM postprocess']\n",
    "        \n",
    "        if sj*si < 0:\n",
    "            \n",
    "            nCross += 1\n",
    "            \n",
    "        if sj*si > 0 :\n",
    "            \n",
    "            nSelf += 1\n",
    "            \n",
    "    ClassFrame.loc[j, 'particle'] = cell\n",
    "    ClassFrame.loc[j, 'state'] = si\n",
    "    ClassFrame.loc[j, 'neighbours'] = nCross + nSelf\n",
    "    ClassFrame.loc[j, 'cross link'] = nCross\n",
    "    ClassFrame.loc[j, 'self link'] = nSelf\n",
    "    j += 1"
   ]
  },
  {
   "cell_type": "code",
   "execution_count": null,
   "metadata": {},
   "outputs": [],
   "source": [
    "IntensityPath = r'\\\\atlas.pasteur.fr\\Multicell\\Gustave\\fusionGustave\\TIFF BIS\\Spheroids\\\\'\n",
    "\n",
    "import json\n",
    "\n",
    "ClassFrame = pandas.DataFrame()\n",
    "j = 0\n",
    "\n",
    "for fileName in glob.glob(IntensityPath + '*.json')[1:]:\n",
    "    \n",
    "    _, sph, time = fileName.split('_')\n",
    "    time, _ = time.split('.')\n",
    "    \n",
    "    print(fileName)\n",
    "    \n",
    "    with open(fileName) as json_file:\n",
    "        data = json.load(json_file)\n",
    "        \n",
    "    try:\n",
    "        \n",
    "        for cell in data['cells'].keys():\n",
    "\n",
    "            nCross = 0\n",
    "            nSelf = 0\n",
    "\n",
    "            loc = data['cells'][cell]\n",
    "        \n",
    "        \n",
    "            si = loc['state GMM postprocess']\n",
    "\n",
    "            for neigh in loc['neighbours']:\n",
    "                sj = data['cells'][neigh]['state GMM postprocess']\n",
    "\n",
    "                if sj*si < 0:\n",
    "\n",
    "                    nCross += 1\n",
    "\n",
    "                if sj*si > 0 :\n",
    "\n",
    "                    nSelf += 1\n",
    "\n",
    "            ClassFrame.loc[j, 'time'] = time\n",
    "            ClassFrame.loc[j, 'spheroid'] = sph\n",
    "            ClassFrame.loc[j, 'particle'] = cell\n",
    "            ClassFrame.loc[j, 'state'] = si\n",
    "            ClassFrame.loc[j, 'neighbours'] = nCross + nSelf\n",
    "            ClassFrame.loc[j, 'cross link'] = nCross\n",
    "            ClassFrame.loc[j, 'self link'] = nSelf\n",
    "            j += 1\n",
    "            \n",
    "    except: print(fileName)"
   ]
  },
  {
   "cell_type": "code",
   "execution_count": null,
   "metadata": {},
   "outputs": [],
   "source": [
    "ResultFrame = pandas.DataFrame()\n",
    "i = 0\n",
    "\n",
    "for sph in ClassFrame['spheroid'].unique():\n",
    "    for time in ClassFrame.loc[ClassFrame['spheroid'] == sph, 'time'].unique():\n",
    "        \n",
    "        locFrame = ClassFrame.loc[(ClassFrame['spheroid'] == sph) &\n",
    "                                 (ClassFrame['time'] == time)]\n",
    "        \n",
    "        ResultFrame.loc[i, 'spheroid'] = sph\n",
    "        ResultFrame.loc[i, 'time'] = int(time)\n",
    "        ResultFrame.loc[i, 'degree'] = locFrame['neighbours'].mean()\n",
    "        ResultFrame.loc[i, 'degree -1'] = locFrame.loc[locFrame['state'] == -1, 'neighbours'].mean()\n",
    "        ResultFrame.loc[i, 'degree 1'] = locFrame.loc[locFrame['state'] == 1, 'neighbours'].mean()\n",
    "        ResultFrame.loc[i, 'p(cross|s = 1)'] = locFrame.loc[locFrame['state'] == 1, \n",
    "                'cross link'].sum()/locFrame.loc[locFrame['state'] == 1, 'neighbours'].sum()\n",
    "        ResultFrame.loc[i, 'p(cross|s = -1)'] = locFrame.loc[locFrame['state'] == -1, \n",
    "                'cross link'].sum()/locFrame.loc[locFrame['state'] == -1, 'neighbours'].sum()\n",
    "        i += 1"
   ]
  },
  {
   "cell_type": "code",
   "execution_count": null,
   "metadata": {},
   "outputs": [],
   "source": [
    "plt.figure()\n",
    "\n",
    "for sph in ResultFrame['spheroid'].unique():\n",
    "    \n",
    "    locFrame = ResultFrame.loc[ResultFrame['spheroid'] == sph].sort_values('time')\n",
    "    \n",
    "    plt.plot(locFrame['time'], locFrame['p(cross|s = -1)'])"
   ]
  },
  {
   "cell_type": "markdown",
   "metadata": {},
   "source": [
    "### Calculating a pseudo-energy\n",
    "\n",
    "### Extracting features"
   ]
  },
  {
   "cell_type": "markdown",
   "metadata": {},
   "source": [
    "### Refined analysis\n",
    "\n",
    "We use the refined metrics of networkx to add centrality, degree and other measures to the death/survival rates of the spheroid. The following process follows:\n",
    "\n",
    " - open json file\n",
    " - modify the spheroid properties\n",
    " - save global properties in soheroid file\n",
    " - save file"
   ]
  },
  {
   "cell_type": "code",
   "execution_count": null,
   "metadata": {},
   "outputs": [],
   "source": [
    "def _refineSph(dic):\n",
    "    \n",
    "    G = _makeG(dic)\n",
    "    \n",
    "    A = networkx.betweenness_centrality(G) # betweeness centrality\n",
    "    B = networkx.clustering(G)\n",
    "    C = networkx.degree(G)\n",
    "    \n",
    "    for v in G:\n",
    "        \n",
    "        dic['cells'][v]['degree'] = C[v]\n",
    "        dic['cells'][v]['clustering'] = B[v]\n",
    "        dic['cells'][v]['centrality'] = A[v]\n",
    "        \n",
    "    dic['N'] = len(dic['cells'])\n",
    "    dic['assortativity'] = nx.degree_assortativity_coefficient(G)\n",
    "    dic['average degree'] = np.asarray([float(C[v]) for v in G]).mean()\n",
    "    \n",
    "    return dic"
   ]
  },
  {
   "cell_type": "code",
   "execution_count": null,
   "metadata": {},
   "outputs": [],
   "source": [
    "_refineSph(_Sph)\n",
    "\n",
    "process._saveSpheroid(_Sph.Spheroid, path + '\\spheroid_' + spheroidFolder + r'_' +  timeFolder + '.json')"
   ]
  }
 ],
 "metadata": {
  "kernelspec": {
   "display_name": "Python 3",
   "language": "python",
   "name": "python3"
  },
  "language_info": {
   "codemirror_mode": {
    "name": "ipython",
    "version": 3
   },
   "file_extension": ".py",
   "mimetype": "text/x-python",
   "name": "python",
   "nbconvert_exporter": "python",
   "pygments_lexer": "ipython3",
   "version": "3.7.0"
  }
 },
 "nbformat": 4,
 "nbformat_minor": 2
}
