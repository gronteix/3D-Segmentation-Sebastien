{
 "cells": [
  {
   "cell_type": "code",
   "execution_count": 1,
   "metadata": {},
   "outputs": [],
   "source": [
    "import os\n",
    "import numpy as np\n",
    "import networkx as nx\n",
    "\n",
    "import process\n",
    "import pandas"
   ]
  },
  {
   "cell_type": "markdown",
   "metadata": {},
   "source": [
    "# Chip analysis\n",
    "\n",
    "The following notebook is an analysis notebook. It has been conceived to order and analyse a dump of confocal images. All questions concerning the code should be emailed to gustave.ronteix@pasteur.fr."
   ]
  },
  {
   "cell_type": "markdown",
   "metadata": {},
   "source": [
    "### Processing\n",
    "\n",
    "The grunt functions are called from process.\n",
    "\n",
    "Attention: verify the channel order."
   ]
  },
  {
   "cell_type": "code",
   "execution_count": 2,
   "metadata": {},
   "outputs": [],
   "source": [
    "livePosition = 2\n",
    "green = 0\n",
    "orange = 1\n",
    "\n",
    "channels = [livePosition, green, orange]\n",
    "\n",
    "zRatio = 1/3\n",
    "rNoyau = 9\n",
    "dCells = 70\n",
    "\n",
    "path = r'\\\\atlas.pasteur.fr\\Multicell\\Gustave\\fusionGustave\\TIFF BIS'"
   ]
  },
  {
   "cell_type": "code",
   "execution_count": null,
   "metadata": {},
   "outputs": [],
   "source": [
    "process._sortFiles(path)"
   ]
  },
  {
   "cell_type": "code",
   "execution_count": 3,
   "metadata": {
    "scrolled": true
   },
   "outputs": [
    {
     "data": {
      "application/vnd.jupyter.widget-view+json": {
       "model_id": "dde03f8bdccf4d4f91fb9b65352fd740",
       "version_major": 2,
       "version_minor": 0
      },
      "text/plain": [
       "HBox(children=(IntProgress(value=0, max=6), HTML(value='')))"
      ]
     },
     "metadata": {},
     "output_type": "display_data"
    },
    {
     "name": "stdout",
     "output_type": "stream",
     "text": [
      "prep image: 1 folder and time 19\n",
      "image made, starting nuclei ID\n",
      "(101, 2044, 2048)\n",
      "Convolution Time:  159.0585141\n",
      "Coordinates ID Time:  16.16408309999997\n",
      "117 cells ID\n",
      "nuclei gotten, make spheroid\n",
      "refine the analysis over the spheroid\n",
      "\\\\atlas.pasteur.fr\\Multicell\\Gustave\\fusionGustave\\TIFF BIS\\\\Spheroids\\spheroid_1_19.json\n",
      "prep image: 1 folder and time 2\n",
      "image made, starting nuclei ID\n",
      "(101, 2044, 2048)\n",
      "Convolution Time:  162.7857524000001\n",
      "Coordinates ID Time:  16.596651100000145\n",
      "227 cells ID\n",
      "nuclei gotten, make spheroid\n",
      "refine the analysis over the spheroid\n",
      "\\\\atlas.pasteur.fr\\Multicell\\Gustave\\fusionGustave\\TIFF BIS\\\\Spheroids\\spheroid_1_2.json\n",
      "prep image: 1 folder and time 22\n",
      "image made, starting nuclei ID\n",
      "(101, 2044, 2048)\n",
      "Convolution Time:  155.4999456999999\n",
      "Coordinates ID Time:  16.5043412\n",
      "0 cells ID\n",
      "nuclei gotten, make spheroid\n",
      "refine the analysis over the spheroid\n",
      "No graph could be generated\n",
      "prep image: 1 folder and time 27\n"
     ]
    },
    {
     "ename": "IndexError",
     "evalue": "too many indices for array",
     "output_type": "error",
     "traceback": [
      "\u001b[1;31m---------------------------------------------------------------------------\u001b[0m",
      "\u001b[1;31mIndexError\u001b[0m                                Traceback (most recent call last)",
      "\u001b[1;32m<ipython-input-3-4d41d85304f5>\u001b[0m in \u001b[0;36m<module>\u001b[1;34m\u001b[0m\n\u001b[1;32m----> 1\u001b[1;33m \u001b[0mprocess\u001b[0m\u001b[1;33m.\u001b[0m\u001b[0m_makeSpheroidClass\u001b[0m\u001b[1;33m(\u001b[0m\u001b[0mpath\u001b[0m\u001b[1;33m,\u001b[0m \u001b[0mzRatio\u001b[0m\u001b[1;33m,\u001b[0m \u001b[0mrNoyau\u001b[0m\u001b[1;33m,\u001b[0m \u001b[0mdCells\u001b[0m\u001b[1;33m,\u001b[0m \u001b[0mchannels\u001b[0m\u001b[1;33m)\u001b[0m\u001b[1;33m\u001b[0m\u001b[0m\n\u001b[0m",
      "\u001b[1;32m~\\Documents\\Python Scripts\\3D-segmentation-Seb\\process.py\u001b[0m in \u001b[0;36m_makeSpheroidClass\u001b[1;34m(path, zRatio, rNoyau, dCells, channels)\u001b[0m\n\u001b[0;32m    132\u001b[0m \u001b[1;33m\u001b[0m\u001b[0m\n\u001b[0;32m    133\u001b[0m                     _makeSingleSpheroidClass(path, spheroidFolder,\n\u001b[1;32m--> 134\u001b[1;33m                         timeFolder, zRatio, rNoyau, dCells, channels)\n\u001b[0m\u001b[0;32m    135\u001b[0m \u001b[1;33m\u001b[0m\u001b[0m\n\u001b[0;32m    136\u001b[0m     \u001b[1;32mreturn\u001b[0m \u001b[0mprint\u001b[0m\u001b[1;33m(\u001b[0m\u001b[1;34m'Spheroids made'\u001b[0m\u001b[1;33m)\u001b[0m\u001b[1;33m\u001b[0m\u001b[0m\n",
      "\u001b[1;32m~\\Documents\\Python Scripts\\3D-segmentation-Seb\\process.py\u001b[0m in \u001b[0;36m_makeSingleSpheroidClass\u001b[1;34m(path, spheroidFolder, timeFolder, zRatio, rNoyau, dCells, channels)\u001b[0m\n\u001b[0;32m     72\u001b[0m     \u001b[1;32mif\u001b[0m \u001b[0mlen\u001b[0m\u001b[1;33m(\u001b[0m\u001b[0mchannels\u001b[0m\u001b[1;33m)\u001b[0m \u001b[1;33m==\u001b[0m \u001b[1;36m3\u001b[0m\u001b[1;33m:\u001b[0m \u001b[1;31m# Improve dependancy on channel number...\u001b[0m\u001b[1;33m\u001b[0m\u001b[0m\n\u001b[0;32m     73\u001b[0m \u001b[1;33m\u001b[0m\u001b[0m\n\u001b[1;32m---> 74\u001b[1;33m         \u001b[0mSph\u001b[0m\u001b[1;33m.\u001b[0m\u001b[0m_loadImage\u001b[0m\u001b[1;33m(\u001b[0m\u001b[0mchannels\u001b[0m\u001b[1;33m[\u001b[0m\u001b[1;36m0\u001b[0m\u001b[1;33m]\u001b[0m\u001b[1;33m,\u001b[0m \u001b[1;34m'NucImage'\u001b[0m\u001b[1;33m)\u001b[0m \u001b[1;31m# Load live cells\u001b[0m\u001b[1;33m\u001b[0m\u001b[0m\n\u001b[0m\u001b[0;32m     75\u001b[0m         \u001b[0mSph\u001b[0m\u001b[1;33m.\u001b[0m\u001b[0m_loadImage\u001b[0m\u001b[1;33m(\u001b[0m\u001b[0mchannels\u001b[0m\u001b[1;33m[\u001b[0m\u001b[1;36m1\u001b[0m\u001b[1;33m]\u001b[0m\u001b[1;33m,\u001b[0m \u001b[1;34m'GreenImage'\u001b[0m\u001b[1;33m)\u001b[0m \u001b[1;31m# Load green cells\u001b[0m\u001b[1;33m\u001b[0m\u001b[0m\n\u001b[0;32m     76\u001b[0m         \u001b[0mSph\u001b[0m\u001b[1;33m.\u001b[0m\u001b[0m_loadImage\u001b[0m\u001b[1;33m(\u001b[0m\u001b[0mchannels\u001b[0m\u001b[1;33m[\u001b[0m\u001b[1;36m2\u001b[0m\u001b[1;33m]\u001b[0m\u001b[1;33m,\u001b[0m \u001b[1;34m'OrangeImage'\u001b[0m\u001b[1;33m)\u001b[0m \u001b[1;31m# Load orange cells\u001b[0m\u001b[1;33m\u001b[0m\u001b[0m\n",
      "\u001b[1;32m~\\Documents\\Python Scripts\\3D-segmentation-Seb\\spheroid.py\u001b[0m in \u001b[0;36m_loadImage\u001b[1;34m(self, channel, type)\u001b[0m\n\u001b[0;32m     73\u001b[0m                 \u001b[0mim\u001b[0m \u001b[1;33m=\u001b[0m \u001b[0mio\u001b[0m\u001b[1;33m.\u001b[0m\u001b[0mimread\u001b[0m\u001b[1;33m(\u001b[0m\u001b[0mself\u001b[0m\u001b[1;33m.\u001b[0m\u001b[0mPath\u001b[0m \u001b[1;33m+\u001b[0m \u001b[1;34m'/'\u001b[0m \u001b[1;33m+\u001b[0m \u001b[0mfilename\u001b[0m\u001b[1;33m)\u001b[0m\u001b[1;33m\u001b[0m\u001b[0m\n\u001b[0;32m     74\u001b[0m \u001b[1;33m\u001b[0m\u001b[0m\n\u001b[1;32m---> 75\u001b[1;33m                 \u001b[0mimage_list\u001b[0m\u001b[1;33m.\u001b[0m\u001b[0mappend\u001b[0m\u001b[1;33m(\u001b[0m\u001b[0mim\u001b[0m\u001b[1;33m[\u001b[0m\u001b[1;33m:\u001b[0m\u001b[1;33m,\u001b[0m\u001b[1;33m:\u001b[0m\u001b[1;33m,\u001b[0m\u001b[0mchannel\u001b[0m\u001b[1;33m]\u001b[0m\u001b[1;33m)\u001b[0m\u001b[1;33m\u001b[0m\u001b[0m\n\u001b[0m\u001b[0;32m     76\u001b[0m \u001b[1;33m\u001b[0m\u001b[0m\n\u001b[0;32m     77\u001b[0m         \u001b[1;32mif\u001b[0m \u001b[0mtype\u001b[0m \u001b[1;33m==\u001b[0m \u001b[1;34m'NucImage'\u001b[0m\u001b[1;33m:\u001b[0m\u001b[1;33m\u001b[0m\u001b[0m\n",
      "\u001b[1;31mIndexError\u001b[0m: too many indices for array"
     ]
    }
   ],
   "source": [
    "process._makeSpheroidClass(path, zRatio, rNoyau, dCells, channels)"
   ]
  },
  {
   "cell_type": "markdown",
   "metadata": {},
   "source": [
    "Remarquons que la segmentation du spheroide dans un ou l'autre des types de cellules depend ici du classificateur naif que nous avons cree. Il repose sur un fit lineaire des points en fonction de leur couleur. On trouve que ce dernier doit avoir comme pente:\n",
    "\n",
    "$a = \\frac{<xy>}{<x^2>}$\n",
    "\n",
    "Le signe par rapport a celui-ci est donne par:\n",
    "\n",
    "$sign = y - a*x$\n",
    "\n",
    "Ce qui nous donne par consequence un moyen rapide pour affecter un genre a chaque cellule."
   ]
  },
  {
   "cell_type": "code",
   "execution_count": null,
   "metadata": {},
   "outputs": [],
   "source": [
    "IntensityPath = r'\\\\atlas.pasteur.fr\\Multicell\\Gustave\\fusionGustave\\TIFF\\Spheroids\\\\'"
   ]
  },
  {
   "cell_type": "code",
   "execution_count": null,
   "metadata": {},
   "outputs": [],
   "source": [
    "df1 = pandas.read_csv(IntensityPath + 'intensityFrame_0_2.csv')"
   ]
  },
  {
   "cell_type": "code",
   "execution_count": null,
   "metadata": {},
   "outputs": [],
   "source": [
    "import matplotlib.pyplot as plt\n",
    "\n",
    "ax1 = df1.plot.scatter(x='Orange',y='Green', c= 'r')"
   ]
  },
  {
   "cell_type": "code",
   "execution_count": null,
   "metadata": {},
   "outputs": [],
   "source": [
    "a = df1['Orange'].dot(df1['Green'])/(df1['Orange'].dot(df1['Orange']))"
   ]
  },
  {
   "cell_type": "code",
   "execution_count": null,
   "metadata": {},
   "outputs": [],
   "source": [
    "ax1 = df1.plot.scatter(x='Orange',y='Green', c= 'r')\n",
    "plt.plot(df1['Orange'], a*df1['Orange'])"
   ]
  },
  {
   "cell_type": "code",
   "execution_count": null,
   "metadata": {},
   "outputs": [],
   "source": [
    "from sklearn import datasets\n",
    "#Iris Dataset\n",
    "iris = datasets.load_iris()\n",
    "X = iris.data"
   ]
  },
  {
   "cell_type": "code",
   "execution_count": null,
   "metadata": {},
   "outputs": [],
   "source": [
    "X = df1[['Orange', 'Green']]"
   ]
  },
  {
   "cell_type": "code",
   "execution_count": null,
   "metadata": {},
   "outputs": [],
   "source": [
    "from sklearn.cluster import KMeans\n",
    "import matplotlib.pyplot as plt\n",
    "import numpy as np\n",
    "\n",
    "#KMeans\n",
    "km = KMeans(n_clusters=2)\n",
    "km.fit(X)\n",
    "km.predict(X)\n",
    "labels = km.labels_"
   ]
  },
  {
   "cell_type": "code",
   "execution_count": null,
   "metadata": {},
   "outputs": [],
   "source": [
    "df1['newLabels'] = labels"
   ]
  },
  {
   "cell_type": "code",
   "execution_count": null,
   "metadata": {},
   "outputs": [],
   "source": [
    "df1"
   ]
  },
  {
   "cell_type": "code",
   "execution_count": null,
   "metadata": {},
   "outputs": [],
   "source": [
    "from sklearn import mixture\n",
    "gmm =  mixture.GaussianMixture(n_components=2).fit(X)\n",
    "labels = gmm.predict(X)\n",
    "fig, ax = plt.subplots(1, figsize=(7,7))\n",
    "ax.scatter(X['Orange'], X['Green'],\n",
    "          c=labels.astype(np.float), edgecolor=\"k\", s=50)\n",
    "ax.set_xlabel(\"Petal width\")\n",
    "ax.set_ylabel(\"Sepal length\")\n",
    "plt.title(\"Gaussian Mixture\", fontsize=14)"
   ]
  },
  {
   "cell_type": "markdown",
   "metadata": {},
   "source": [
    "### Refined analysis\n",
    "\n",
    "We use the refined metrics of networkx to add centrality, degree and other measures to the death/survival rates of the spheroid. The following process follows:\n",
    "\n",
    " - open json file\n",
    " - modify the spheroid properties\n",
    " - save global properties in soheroid file\n",
    " - save file"
   ]
  },
  {
   "cell_type": "code",
   "execution_count": null,
   "metadata": {},
   "outputs": [],
   "source": [
    "def _refineSph(dic):\n",
    "    \n",
    "    G = _makeG(dic)\n",
    "    \n",
    "    A = networkx.betweenness_centrality(G) # betweeness centrality\n",
    "    B = networkx.clustering(G)\n",
    "    C = networkx.degree(G)\n",
    "    \n",
    "    for v in G:\n",
    "        \n",
    "        dic['cells'][v]['degree'] = C[v]\n",
    "        dic['cells'][v]['clustering'] = B[v]\n",
    "        dic['cells'][v]['centrality'] = A[v]\n",
    "        \n",
    "    dic['N'] = len(dic['cells'])\n",
    "    dic['assortativity'] = nx.degree_assortativity_coefficient(G)\n",
    "    dic['average degree'] = np.asarray([float(C[v]) for v in G]).mean()\n",
    "    \n",
    "    return dic"
   ]
  },
  {
   "cell_type": "code",
   "execution_count": null,
   "metadata": {},
   "outputs": [],
   "source": [
    "_refineSph(_Sph)\n",
    "\n",
    "process._saveSpheroid(_Sph.Spheroid, path + '\\spheroid_' + spheroidFolder + r'_' +  timeFolder + '.json')"
   ]
  }
 ],
 "metadata": {
  "kernelspec": {
   "display_name": "Python 3",
   "language": "python",
   "name": "python3"
  }
 },
 "nbformat": 4,
 "nbformat_minor": 2
}
